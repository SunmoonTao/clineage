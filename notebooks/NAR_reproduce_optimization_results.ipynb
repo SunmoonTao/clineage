{
 "cells": [
  {
   "cell_type": "code",
   "execution_count": 1,
   "metadata": {},
   "outputs": [],
   "source": [
    "import sys\n",
    "sys.path.append('/home/ofirr/clineage/')\n",
    "import clineage.wsgi\n",
    "\n",
    "import itertools\n",
    "from distributed import Client\n",
    "import numpy as np\n",
    "import matplotlib.pyplot as plt\n",
    "from collections import Counter\n",
    "from frogress import bar\n",
    "import matplotlib.gridspec as gridspec\n",
    "%matplotlib inline\n",
    "import seaborn as sns\n",
    "sns.set_context(\"notebook\")"
   ]
  },
  {
   "cell_type": "code",
   "execution_count": 2,
   "metadata": {},
   "outputs": [],
   "source": [
    "from django.db import connection\n",
    "connection.close()"
   ]
  },
  {
   "cell_type": "code",
   "execution_count": 2,
   "metadata": {},
   "outputs": [],
   "source": [
    "from pickle import loads\n",
    "with open('/home/ofirr/s/Ofir/old_ofir/hcc/hist_calling/miseq19_22_26_synthetics_interbc_as_gt_nofilter_full_01102017_remodeled.pickle', 'rb') as f:\n",
    "    hists = loads(f.read())"
   ]
  },
  {
   "cell_type": "code",
   "execution_count": null,
   "metadata": {},
   "outputs": [],
   "source": []
  },
  {
   "cell_type": "code",
   "execution_count": 3,
   "metadata": {},
   "outputs": [],
   "source": [
    "time_points = dict(\n",
    "    t0 = 'pure',\n",
    "    t1 = 'noPCR',\n",
    "    t2 = 'PCR2only',\n",
    "    t3 = 'PCR1-2',)"
   ]
  },
  {
   "cell_type": "code",
   "execution_count": 6,
   "metadata": {},
   "outputs": [
    {
     "name": "stdout",
     "output_type": "stream",
     "text": [
      "missing A 50 PCR1-2\n"
     ]
    }
   ],
   "source": [
    "from sequencing.calling.hist import Histogram\n",
    "import pandas as pd\n",
    "rows = []\n",
    "ordered_time_points = [time_points['t1'],time_points['t2'],time_points['t3']]\n",
    "for t in ordered_time_points:\n",
    "    for repeat_unit in hists:\n",
    "        for repeat_number in sorted(hists[repeat_unit]):\n",
    "            if t not in hists[repeat_unit][repeat_number]:\n",
    "                print('missing', repeat_unit, repeat_number, t)\n",
    "                continue\n",
    "            for miseq in hists[repeat_unit][repeat_number][t]:\n",
    "                for i, row_hist in enumerate(hists[repeat_unit][repeat_number][t][miseq]):\n",
    "                    real_hist = row_hist\n",
    "                    rows.append({\n",
    "                        'time_point': t,\n",
    "                        'repeat_unit': repeat_unit,\n",
    "                        'repeat_number': repeat_number,\n",
    "                        'sample': '{} {}'.format(miseq, i),\n",
    "                        'sigma': real_hist._hist[repeat_number]/float(real_hist.nsamples)\n",
    "                    })\n",
    "df = pd.DataFrame(rows)"
   ]
  },
  {
   "cell_type": "code",
   "execution_count": 8,
   "metadata": {
    "scrolled": false
   },
   "outputs": [
    {
     "name": "stdout",
     "output_type": "stream",
     "text": [
      "dropped G 15\n",
      "dropped G 16\n",
      "dropped G 17\n",
      "dropped G 18\n",
      "dropped G 20\n",
      "dropped G 25\n",
      "dropped AG 30\n",
      "dropped AG 35\n",
      "dropped A 40\n",
      "missing A 50 PCR1-2\n",
      "dropped A 50\n",
      "dropped A 80\n",
      "dropped A 100\n",
      "dropped AT 20\n",
      "dropped AT 25\n",
      "dropped AT 30\n",
      "dropped AT 35\n",
      "dropped AT 40\n",
      "dropped AC 35\n",
      "dropped AC 40\n"
     ]
    }
   ],
   "source": [
    "filtered_hists = dict()\n",
    "for repeat_unit in hists:\n",
    "    for repeat_number in sorted(hists[repeat_unit]):\n",
    "        by_time_point = dict()\n",
    "        for t in ordered_time_points:\n",
    "            if t not in hists[repeat_unit][repeat_number]:\n",
    "                print('missing', repeat_unit, repeat_number, t)\n",
    "                continue\n",
    "            for miseq in hists[repeat_unit][repeat_number][t]:\n",
    "                for i, row_hist in enumerate(hists[repeat_unit][repeat_number][t][miseq]):\n",
    "                    real_hist = row_hist\n",
    "                    if real_hist._hist[repeat_number]/float(real_hist.nsamples) < 0.05:\n",
    "#                         print('dropped', repeat_unit, repeat_number, miseq, i)\n",
    "#                         plt.plot(*list(zip(*sorted(real_hist._hist.items(), key=lambda x:x[0]))))\n",
    "#                         plt.show()\n",
    "                        continue  # ignor measurements with less than 10% of the original allele\n",
    "                    by_time_point.setdefault(t, []).append(real_hist)\n",
    "        if len(by_time_point) < 3:\n",
    "            print('dropped', repeat_unit, repeat_number)\n",
    "            continue\n",
    "        filtered_hists.setdefault(repeat_unit, dict())[repeat_number] = by_time_point"
   ]
  },
  {
   "cell_type": "code",
   "execution_count": 9,
   "metadata": {},
   "outputs": [
    {
     "data": {
      "text/plain": [
       "dict_keys(['G', 'AG', 'A', 'AC', 'AT'])"
      ]
     },
     "execution_count": 9,
     "metadata": {},
     "output_type": "execute_result"
    }
   ],
   "source": [
    "filtered_hists.keys()"
   ]
  },
  {
   "cell_type": "code",
   "execution_count": 10,
   "metadata": {},
   "outputs": [
    {
     "data": {
      "text/plain": [
       "dict_keys([2, 20, 5, 25, 10, 30, 15])"
      ]
     },
     "execution_count": 10,
     "metadata": {},
     "output_type": "execute_result"
    }
   ],
   "source": [
    "filtered_hists['AC'].keys()"
   ]
  },
  {
   "cell_type": "code",
   "execution_count": 12,
   "metadata": {},
   "outputs": [
    {
     "data": {
      "text/plain": [
       "dict_keys(['noPCR', 'PCR1-2', 'PCR2only'])"
      ]
     },
     "execution_count": 12,
     "metadata": {},
     "output_type": "execute_result"
    }
   ],
   "source": [
    "filtered_hists['AC'][20].keys()"
   ]
  },
  {
   "cell_type": "code",
   "execution_count": 15,
   "metadata": {},
   "outputs": [],
   "source": [
    "t0 = 'noPCR'\n",
    "t1 = 'PCR2only'\n",
    "t2 = 'PCR1-2'"
   ]
  },
  {
   "cell_type": "code",
   "execution_count": 25,
   "metadata": {},
   "outputs": [
    {
     "name": "stdout",
     "output_type": "stream",
     "text": [
      "Counter({20: 8512, 19: 3250, 18: 795, 21: 188, 17: 151, 15: 33, 11: 31, 16: 28, 12: 19, 14: 16, 13: 15, 10: 10, 9: 4, 3: 3, 7: 3, 22: 3, 5: 2, 8: 2, 23: 2, 24: 2, 4: 1, 6: 1})\n"
     ]
    }
   ],
   "source": [
    "print(filtered_hists['AC'][20][t1][0]._hist)"
   ]
  },
  {
   "cell_type": "code",
   "execution_count": 14,
   "metadata": {},
   "outputs": [
    {
     "name": "stdout",
     "output_type": "stream",
     "text": [
      "3.00: 3.00          |\n",
      "4.00: 1.00          |\n",
      "5.00: 2.00          |\n",
      "6.00: 1.00          |\n",
      "7.00: 3.00          |\n",
      "8.00: 2.00          |\n",
      "9.00: 4.00          |\n",
      "10.00: 10.00        |\n",
      "11.00: 31.00        |\n",
      "12.00: 19.00        |\n",
      "13.00: 15.00        |\n",
      "14.00: 16.00        |\n",
      "15.00: 33.00        |\n",
      "16.00: 28.00        |\n",
      "17.00: 151.00       |#\n",
      "18.00: 795.00       |###\n",
      "19.00: 3250.00      |############\n",
      "20.00: 8512.00      |#################################\n",
      "21.00: 188.00       |#\n",
      "22.00: 3.00         |\n",
      "23.00: 2.00         |\n",
      "24.00: 2.00         |\n",
      "3.00: 1.00          |\n",
      "5.00: 1.00          |\n",
      "6.00: 2.00          |\n",
      "7.00: 3.00          |\n",
      "8.00: 1.00          |\n",
      "9.00: 3.00          |\n",
      "10.00: 6.00         |\n",
      "11.00: 48.00        |\n",
      "12.00: 28.00        |\n",
      "13.00: 44.00        |\n",
      "14.00: 35.00        |\n",
      "15.00: 44.00        |\n",
      "16.00: 45.00        |\n",
      "17.00: 182.00       |#\n",
      "18.00: 961.00       |###\n",
      "19.00: 4052.00      |#############\n",
      "20.00: 10441.00     |################################\n",
      "21.00: 232.00       |#\n",
      "22.00: 4.00         |\n",
      "24.00: 4.00         |\n",
      "26.00: 1.00         |\n",
      "3.00: 5.00          |\n",
      "4.00: 1.00          |\n",
      "5.00: 11.00         |\n",
      "6.00: 2.00          |\n",
      "7.00: 5.00          |\n",
      "8.00: 7.00          |\n",
      "9.00: 17.00         |\n",
      "10.00: 36.00        |\n",
      "11.00: 48.00        |\n",
      "12.00: 29.00        |\n",
      "13.00: 46.00        |\n",
      "14.00: 43.00        |\n",
      "15.00: 52.00        |\n",
      "16.00: 108.00       |\n",
      "17.00: 382.00       |#\n",
      "18.00: 1731.00      |###\n",
      "19.00: 6898.00      |############\n",
      "20.00: 18902.00     |#################################\n",
      "21.00: 341.00       |#\n",
      "22.00: 4.00         |\n",
      "23.00: 1.00         |\n",
      "24.00: 4.00         |\n",
      "25.00: 3.00         |\n",
      "26.00: 1.00         |\n",
      "27.00: 3.00         |\n"
     ]
    }
   ],
   "source": [
    "for h in filtered_hists['AC'][20][t1]:\n",
    "    print(h)"
   ]
  },
  {
   "cell_type": "code",
   "execution_count": 6,
   "metadata": {},
   "outputs": [],
   "source": [
    "from sequencing.calling.simcor.order.calibration.models.mutation_markov import MutationMarkov, get_x_from_list, hashable_poly1d\n",
    "import math\n",
    "from sympy.abc import alpha, gamma, lamda, mu, d, rho, delta\n",
    "from sympy.abc import i as iii\n",
    "from sympy.functions import exp\n",
    "from sympy.utilities import lambdify\n",
    "\n",
    "hipstr_u = rho*(1-rho)**(delta-1)\n",
    "hipstr_d = rho*(1-rho)**(-delta-1)\n",
    "\n",
    "def build_hipstr_steps_dict(rho_s, max_step):\n",
    "    static_steps_dict = dict()\n",
    "    for step_d in range(1, max_step):\n",
    "        static_steps_dict[step_d] = hipstr_u.subs({delta:step_d, rho:rho_s})\n",
    "        static_steps_dict[-step_d] = hipstr_d.subs({delta:step_d, rho:rho_s})\n",
    "    static_steps_dict[0] = 1-sum(static_steps_dict.values())\n",
    "    return {k:lambdify(iii, v) for k,v in static_steps_dict.items()}\n",
    "\n",
    "\n",
    "class HipSTR(MutationMarkov):\n",
    "    def _steps(self, x):\n",
    "        rho = x\n",
    "        return build_hipstr_steps_dict(rho, 10)\n",
    "\n",
    "\n",
    "whittaker_base = mu*exp(-lamda*d)\n",
    "whittaker_mu_dynamic = gamma*exp(alpha*iii)\n",
    "\n",
    "\n",
    "def build_whittaker_steps_dict(mu_up, mu_dw, lam_up, lam_dw, max_step):\n",
    "    static_steps_dict = dict()\n",
    "    for step_d in range(1, max_step):\n",
    "        static_steps_dict[step_d] = whittaker_base.subs({d:step_d, mu:mu_up, lamda:lam_up})\n",
    "        static_steps_dict[-step_d] = whittaker_base.subs({d:step_d, mu:mu_dw, lamda:lam_dw})\n",
    "    static_steps_dict[0] = 1-sum(static_steps_dict.values())\n",
    "    return {k:lambdify(iii, v) for k,v in static_steps_dict.items()}\n",
    "\n",
    "\n",
    "class Whittaker1(MutationMarkov):\n",
    "    def _steps(self, x):\n",
    "        mu_s, lambda_s = x\n",
    "        return build_whittaker_steps_dict(mu_s, mu_s, lambda_s, lambda_s, 10)\n",
    "\n",
    "\n",
    "class Whittaker2(MutationMarkov):\n",
    "    def _steps(self, x):\n",
    "        mu_s, lambda_up, lambda_dw = x\n",
    "        return build_whittaker_steps_dict(mu_s, mu_s, lambda_up, lambda_dw, 10)\n",
    "\n",
    "\n",
    "class Whittaker3(MutationMarkov):\n",
    "    def _steps(self, x):\n",
    "        mu_up, mu_dw, lambda_s = x\n",
    "        return build_whittaker_steps_dict(mu_up, mu_dw, lambda_s, lambda_s, 10)\n",
    "\n",
    "\n",
    "class Whittaker4(MutationMarkov):\n",
    "    def _steps(self, x):\n",
    "        mu_up, mu_dw, lambda_up, lambda_dw = x\n",
    "        return build_whittaker_steps_dict(mu_up, mu_dw, lambda_up, lambda_dw, 10)\n",
    "\n",
    "\n",
    "class Whittaker5(MutationMarkov):\n",
    "    def _steps(self, x):\n",
    "        gamma_s, alpha_s, lambda_s = x\n",
    "        return build_whittaker_steps_dict(\n",
    "            whittaker_mu_dynamic.subs({alpha:alpha_s, gamma:gamma_s}), \n",
    "            whittaker_mu_dynamic.subs({alpha:alpha_s, gamma:gamma_s}), \n",
    "            lambda_s, \n",
    "            lambda_s, \n",
    "            10)\n",
    "\n",
    "\n",
    "class Whittaker6(MutationMarkov):\n",
    "    def _steps(self, x):\n",
    "        gamma_up, gamma_dw, alpha_s, lambda_s = x\n",
    "        return build_whittaker_steps_dict(\n",
    "            whittaker_mu_dynamic.subs({alpha:alpha_s, gamma:gamma_up}), \n",
    "            whittaker_mu_dynamic.subs({alpha:alpha_s, gamma:gamma_dw}), \n",
    "            lambda_s, \n",
    "            lambda_s, \n",
    "            10)\n",
    "\n",
    "\n",
    "class Whittaker7(MutationMarkov):\n",
    "    def _steps(self, x):\n",
    "        gamma_s, alpha_s, lambda_up, lambda_dw = x\n",
    "        return build_whittaker_steps_dict(\n",
    "            whittaker_mu_dynamic.subs({alpha:alpha_s, gamma:gamma_s}), \n",
    "            whittaker_mu_dynamic.subs({alpha:alpha_s, gamma:gamma_s}), \n",
    "            lambda_up,\n",
    "            lambda_dw,\n",
    "            10)\n",
    "\n",
    "\n",
    "class Whittaker8(MutationMarkov):\n",
    "    def _steps(self, x):\n",
    "        gamma_up, gamma_dw, alpha_up, alpha_dw, lambda_s = x\n",
    "        return build_whittaker_steps_dict(\n",
    "            whittaker_mu_dynamic.subs({alpha:alpha_up, gamma:gamma_up}), \n",
    "            whittaker_mu_dynamic.subs({alpha:alpha_dw, gamma:gamma_dw}), \n",
    "            lambda_s, \n",
    "            lambda_s, \n",
    "            10)\n",
    "\n",
    "\n",
    "class Whittaker9(MutationMarkov):\n",
    "    def _steps(self, x):\n",
    "        gamma_up, gamma_dw, alpha_up, alpha_dw, lambda_up, lambda_dw = x\n",
    "        return build_whittaker_steps_dict(\n",
    "            whittaker_mu_dynamic.subs({alpha:alpha_up, gamma:gamma_up}), \n",
    "            whittaker_mu_dynamic.subs({alpha:alpha_dw, gamma:gamma_dw}), \n",
    "            lambda_up, \n",
    "            lambda_dw, \n",
    "            10)\n",
    "\n",
    "def parse_parameters_vector(x, parameters_per_step=2, up_steps=1, func=hashable_poly1d):\n",
    "    assert len(x) % parameters_per_step == 0\n",
    "    up_params = x[:up_steps*parameters_per_step]\n",
    "    dw_params = x[up_steps*parameters_per_step:]\n",
    "    ups = [func(list(tup)) for tup in get_x_from_list(up_params, parameters_per_step)]\n",
    "    dws = [func(list(tup)) for tup in get_x_from_list(dw_params, parameters_per_step)]\n",
    "    fs = 1 - sum(ups) - sum(dws)\n",
    "    d = {0: fs}\n",
    "    d.update({i+1: fu for i, fu in enumerate(ups)})\n",
    "    d.update({-i-1: fd for i, fd in enumerate(dws)})\n",
    "    return d\n",
    "\n",
    "\n",
    "class MutationMarkovLinearBalanced(MutationMarkov):\n",
    "    def _steps(self, x):\n",
    "        return parse_parameters_vector(x, 2, 2, hashable_poly1d)\n",
    "\n",
    "\n",
    "class MutationMarkovLinearDownBiased(MutationMarkov):\n",
    "    def _steps(self, x):\n",
    "        return parse_parameters_vector(x, 2, 1, hashable_poly1d)\n",
    "\n",
    "\n",
    "class MutationMarkovSecondDegreePolynomialsDownBiased(MutationMarkov):\n",
    "    def _steps(self, x):\n",
    "        return parse_parameters_vector(x, 3, 1, hashable_poly1d)\n",
    "\n",
    "    \n",
    "class MutationMarkovSecondDegreePolynomialsBalanced(MutationMarkov):\n",
    "    def _steps(self, x):\n",
    "        return parse_parameters_vector(x, 3, 2, hashable_poly1d)"
   ]
  },
  {
   "cell_type": "code",
   "execution_count": 7,
   "metadata": {},
   "outputs": [],
   "source": [
    "models_and_bounds = {\n",
    "    'HipSTR':{\n",
    "        'model': HipSTR,\n",
    "        'bounds':[\n",
    "            (0.0, 0.5),\n",
    "        ],\n",
    "    },\n",
    "    'Whittaker1':{\n",
    "        'model': Whittaker1,\n",
    "        'bounds':[\n",
    "            (0.0, 0.5), (0.0, 2.0),\n",
    "        ],\n",
    "    },\n",
    "    'Whittaker2':{\n",
    "        'model': Whittaker2,\n",
    "        'bounds':[\n",
    "            (0.0, 0.5), (0.0, 4.0), (0.0, 4.0),\n",
    "        ],\n",
    "    },\n",
    "    'Whittaker3':{\n",
    "        'model': Whittaker3,\n",
    "        'bounds':[\n",
    "            (0.0, 0.5), (0.0, 0.5), (0.0, 2.0),\n",
    "        ],\n",
    "    },\n",
    "    'Whittaker4':{\n",
    "        'model': Whittaker4,\n",
    "        'bounds':[\n",
    "            (0.0, 0.5), (0.0, 0.5), (0.0, 8.0), (0.0, 8.0),\n",
    "        ],\n",
    "    },\n",
    "    'Whittaker5':{\n",
    "        'model': Whittaker5,\n",
    "        'bounds':[\n",
    "            (0.0, 0.5), (0.0, 0.5), (0.0, 4.0),\n",
    "        ],\n",
    "    },\n",
    "    'Whittaker6':{\n",
    "        'model': Whittaker6,\n",
    "        'bounds':[\n",
    "            (0.0, 0.5), (.0, 0.5), (.0, 0.5), (0.0, 4.0),\n",
    "        ],\n",
    "    },\n",
    "    'Whittaker7':{\n",
    "        'model': Whittaker7,\n",
    "        'bounds':[\n",
    "            (0.0, 0.5), (0.0, 0.5), (0.0, 8.0), (0.0, 8.0),\n",
    "        ],\n",
    "    },\n",
    "    'Whittaker8':{\n",
    "        'model': Whittaker8,\n",
    "        'bounds':[\n",
    "            (0.0, 0.5), (0.0, 0.5),\n",
    "            (0.0, 1.0), (0.0, 1.0),\n",
    "            (0.0, 4.0),\n",
    "        ],\n",
    "    },\n",
    "    'Whittaker9':{\n",
    "        'model': Whittaker9,\n",
    "        'bounds':[\n",
    "            (0.0, 0.5), (0.0, 0.5),\n",
    "            (0.0, 1.0), (0.0, 1.0),\n",
    "            (0.0, 8.0), (0.0, 8.0),\n",
    "        ],\n",
    "    },\n",
    "    'MutationMarkovLinear1up1dw':{\n",
    "        'model': MutationMarkovLinearDownBiased,\n",
    "        'bounds':[\n",
    "            (-0.1, 0.1), (-0.5, 0.5),\n",
    "            (-0.1, 0.11), (-0.5, 0.5),\n",
    "        ],\n",
    "    },\n",
    "    'MutationMarkovLinear1up2dw':{\n",
    "        'model': MutationMarkovLinearDownBiased,\n",
    "        'bounds':[\n",
    "            (-0.1, 0.1), (-0.5, 0.5),\n",
    "            (-0.1, 0.1), (-0.5, 0.5),\n",
    "            (-0.1, 0.1), (-0.5, 0.5),\n",
    "        ],\n",
    "    },\n",
    "    'MutationMarkovLinear2up2dw':{\n",
    "        'model': MutationMarkovLinearBalanced,\n",
    "        'bounds':[\n",
    "            (-0.1, 0.1), (-0.5, 0.5),\n",
    "            (-0.1, 0.1), (-0.9, 0.9),\n",
    "            (-0.1, 0.1), (-0.5, 0.5),\n",
    "            (-0.1, 0.1), (-0.5, 0.5),\n",
    "        ],\n",
    "    },\n",
    "    'MutationMarkovLinear1up3dw':{\n",
    "        'model': MutationMarkovLinearDownBiased,\n",
    "        'bounds':[\n",
    "            (-0.1, 0.1), (-0.5, 0.5),\n",
    "            (-0.1, 0.1), (-0.5, 0.5),\n",
    "            (-0.1, 0.1), (-0.5, 0.5),\n",
    "            (-0.1, 0.1), (-0.5, 0.5),\n",
    "        ],\n",
    "    },\n",
    "    'MutationMarkovSquared1up1dw':{\n",
    "        'model': MutationMarkovSecondDegreePolynomialsDownBiased,\n",
    "        'bounds':[\n",
    "            (-0.01, 0.01), (-0.1, 0.1), (-.9, 0.9),\n",
    "            (-0.01, 0.01), (-0.1, 0.1), (-.9, 0.9),\n",
    "        ],\n",
    "    },\n",
    "    'MutationMarkovSquared1up2dw':{\n",
    "        'model': MutationMarkovSecondDegreePolynomialsDownBiased,\n",
    "        'bounds':[\n",
    "            (-0.01, 0.01), (-0.1, 0.1), (-.9, 0.9),\n",
    "            (-0.01, 0.01), (-0.1, 0.1), (-.9, 0.9),\n",
    "            (-0.01, 0.01), (-0.1, 0.1), (-.9, 0.9),\n",
    "        ],\n",
    "    },\n",
    "    'MutationMarkovSquared2up2dw':{\n",
    "        'model': MutationMarkovSecondDegreePolynomialsBalanced,\n",
    "        'bounds':[\n",
    "            (-0.01, 0.01), (-0.1, 0.1), (-.9, 0.9),\n",
    "            (-0.01, 0.01), (-0.1, 0.1), (-.9, 0.9),\n",
    "            (-0.01, 0.01), (-0.1, 0.1), (-.9, 0.9),\n",
    "            (-0.01, 0.01), (-0.1, 0.1), (-.9, 0.9),\n",
    "        ],\n",
    "    },\n",
    "    'MutationMarkovSquared1up3dw':{\n",
    "        'model': MutationMarkovSecondDegreePolynomialsDownBiased,\n",
    "        'bounds':[\n",
    "            (-0.01, 0.01), (-0.1, 0.1), (-.9, 0.9),\n",
    "            (-0.01, 0.01), (-0.1, 0.1), (-.9, 0.9),\n",
    "            (-0.01, 0.01), (-0.1, 0.1), (-.9, 0.9),\n",
    "            (-0.01, 0.01), (-0.1, 0.1), (-.9, 0.9),\n",
    "        ],\n",
    "    },\n",
    "}"
   ]
  },
  {
   "cell_type": "code",
   "execution_count": 9,
   "metadata": {},
   "outputs": [],
   "source": [
    "def helper_optimization_functions_generator(models_and_bounds, metric='dot', iterations=100):\n",
    "    for name, model_and_bounds in models_and_bounds.items():\n",
    "        params = Params(\n",
    "            bounds=model_and_bounds['bounds'],\n",
    "            initial_guess = [0 for bounds_tuple in model_and_bounds['bounds']],\n",
    "            temperature=1.0, \n",
    "            stepsize=0.5,\n",
    "            optimizer_options=dict(\n",
    "                eps=1e-5,\n",
    "            ),\n",
    "        )\n",
    "        opt = Optimizer(\n",
    "            minimizer_method=\"L-BFGS-B\",\n",
    "            dist_metric=metric,\n",
    "            disp=True,\n",
    "            iterations=iterations,\n",
    "        )\n",
    "        def helper_func(params, opt, ref):\n",
    "            model_params = model_and_bounds['model']()\n",
    "            ret = opt.optimize_across_lengths(\n",
    "                    params=params,\n",
    "                    model_params=model_params,\n",
    "                    reference=ref,\n",
    "                )\n",
    "            return ref.cycles_dict, ret['fun'], ret['x']\n",
    "        helper_func.__name__ = 'helper_{}'.format(name)\n",
    "        yield helper_func, params, opt"
   ]
  },
  {
   "cell_type": "code",
   "execution_count": 13,
   "metadata": {},
   "outputs": [
    {
     "data": {
      "text/plain": [
       "dict_keys(['MutationMarkovLinear1up1dw', 'Whittaker7', 'MutationMarkovSquared1up2dw', 'Whittaker8', 'Whittaker9', 'Whittaker4', 'Whittaker2', 'MutationMarkovSquared1up1dw', 'MutationMarkovLinear2up2dw', 'MutationMarkovSquared2up2dw', 'MutationMarkovSquared1up3dw', 'MutationMarkovLinear1up3dw', 'Whittaker5', 'MutationMarkovLinear1up2dw', 'Whittaker1', 'HipSTR', 'Whittaker3', 'Whittaker6'])"
      ]
     },
     "execution_count": 13,
     "metadata": {},
     "output_type": "execute_result"
    }
   ],
   "source": [
    "models_and_bounds.keys()"
   ]
  },
  {
   "cell_type": "code",
   "execution_count": 14,
   "metadata": {},
   "outputs": [],
   "source": [
    "x = [0.0999999999999927, 0.0280457366647781, 0.0830835683750039, 0.152869831162814, 1.32430738486242, 1.41976202167616]\n",
    "model_params = models_and_bounds['Whittaker9']['model']()\n",
    "model = model_params.get_for_x(x)"
   ]
  },
  {
   "cell_type": "code",
   "execution_count": 17,
   "metadata": {},
   "outputs": [
    {
     "data": {
      "text/plain": [
       "<sequencing.calling.simcor.order.calibration.models.markov.FixedStepMarkovModel.Model at 0x7f64d9796b00>"
      ]
     },
     "execution_count": 17,
     "metadata": {},
     "output_type": "execute_result"
    }
   ],
   "source": [
    "model"
   ]
  },
  {
   "cell_type": "code",
   "execution_count": 11,
   "metadata": {
    "scrolled": false
   },
   "outputs": [
    {
     "name": "stdout",
     "output_type": "stream",
     "text": [
      "helper_MutationMarkovLinear2up2dw AT 0.008503793484158170138 0.00959886707572\n",
      "helper_MutationMarkovLinear2up2dw AC 0.006845981691469476549 0.00534019634084\n",
      "helper_MutationMarkovLinear2up2dw AC 0.017218360801617058739 0.0130491559202\n",
      "helper_MutationMarkovLinear2up2dw AC 0.020413736068696719425 0.0171071888248\n",
      "helper_Whittaker7 AT 0.005358727885307855582 0.0063921454235\n",
      "helper_Whittaker7 AT 0.0063004150950575504018 0.00749548869631\n",
      "helper_Whittaker7 AC 0.0121651165057455806186 0.0108850131732\n",
      "helper_Whittaker7 AC 0.011499628272140217306 0.010297709692\n",
      "helper_Whittaker7 AC 0.011448180703577706686 0.0103218725533\n",
      "helper_MutationMarkovSquared2up2dw AC 0.05740938525088950432 0.0518644589966\n",
      "helper_MutationMarkovSquared2up2dw AC 0.038609264209696657714 0.0347758743753\n",
      "helper_MutationMarkovSquared2up2dw A 0.016355138256418045156 0.0179670361506\n",
      "helper_MutationMarkovSquared2up2dw A 0.011369454966269797051 0.012896258181\n",
      "helper_MutationMarkovSquared2up2dw G 0.018862122851039652218 0.024856684143\n",
      "helper_MutationMarkovSquared2up2dw G 0.037495887386463403466 0.0464404678638\n",
      "helper_MutationMarkovSquared2up2dw G 0.031328579998925528362 0.0404037615307\n",
      "helper_MutationMarkovSquared2up2dw AG 0.0070641077323983395335 0.008174033842\n",
      "helper_Whittaker1 AT 0.38596032733127058972 0.436658304649\n",
      "helper_Whittaker1 AT 0.39103990088285544942 0.43977815105\n",
      "helper_Whittaker1 AT 0.39430126697013618018 0.442555771094\n",
      "helper_Whittaker1 AC 3.0922014374020423016 3.97521353041\n",
      "helper_Whittaker1 AC 3.1005574076017571182 3.98491126929\n",
      "helper_Whittaker1 AC 3.1093205813999048623 3.99486869677\n",
      "helper_Whittaker1 A 0.79097797873680098576 0.958869009203\n",
      "helper_Whittaker1 A 0.8037754752823602564 0.972810193336\n",
      "helper_Whittaker1 A 0.8154081176637121684 0.984646561688\n",
      "helper_Whittaker1 G 1.7084190947469319878 2.10849084191\n",
      "helper_Whittaker1 G 1.7049805784186322285 2.10687125459\n",
      "helper_Whittaker1 G 1.7016681387330028566 2.10634939203\n",
      "helper_Whittaker1 AG 0.46929686454485640746 0.564009613608\n",
      "helper_Whittaker1 AG 0.46923355694296512163 0.563849150177\n",
      "helper_Whittaker1 AG 0.46676076880867631023 0.563973917305\n",
      "helper_MutationMarkovLinear1up3dw AC 0.0061358512741008311124 0.00487960389164\n",
      "helper_MutationMarkovLinear1up1dw AT 0.0117581974803739605594 0.0146101990257\n",
      "helper_MutationMarkovLinear1up1dw AC 0.028911828952846750881 0.0265048283293\n",
      "helper_MutationMarkovLinear1up1dw AC 0.023506743813510318414 0.0211070814953\n",
      "helper_MutationMarkovLinear1up1dw AC 0.020924427242759870813 0.0188099346459\n",
      "helper_MutationMarkovLinear1up1dw A 0.013193464286103586437 0.0150496614366\n",
      "helper_MutationMarkovLinear1up1dw A 0.0103362141502745421384 0.0117568489747\n",
      "helper_MutationMarkovLinear1up1dw A 0.008983713265591435883 0.01015769736\n",
      "helper_MutationMarkovLinear1up1dw G 0.019915480803608898573 0.0245297534505\n",
      "helper_MutationMarkovLinear1up1dw G 0.015634607886785310498 0.0193919202374\n",
      "helper_MutationMarkovLinear1up1dw G 0.013807480499291939424 0.0170689848354\n",
      "helper_Whittaker5 AT 0.11534495487371991296 0.130546436634\n",
      "helper_Whittaker5 AT 0.14225396095255849483 0.174523051754\n",
      "helper_Whittaker5 AT 0.118012511170437217954 0.135905434186\n",
      "helper_Whittaker5 AC 0.69674017095647663316 0.977012088471\n",
      "helper_Whittaker5 AC 0.65192758088011940125 0.927349367606\n",
      "helper_Whittaker5 AC 0.62727601850670225403 0.888152260134\n",
      "helper_Whittaker5 A 0.09721820843032694595 0.120092781344\n",
      "helper_Whittaker5 G 0.7677336316392843154 0.862374217222\n",
      "helper_Whittaker5 G 0.7589313067869809184 0.856802613933\n",
      "helper_Whittaker5 G 0.7724432330581730427 0.865211361791\n",
      "helper_Whittaker5 AG 0.11243319622382682923 0.144255322356\n",
      "helper_Whittaker5 AG 0.110349309036056281345 0.136485277045\n",
      "helper_Whittaker5 AG 0.10310559585134035326 0.131781338619\n",
      "helper_MutationMarkovSquared1up1dw AC 0.06364121879296203262 0.0577004120205\n",
      "helper_MutationMarkovSquared1up1dw AC 0.036257910498134072483 0.0299824141231\n",
      "helper_MutationMarkovSquared1up1dw AC 0.057727009014098501082 0.0508887071937\n",
      "helper_MutationMarkovSquared1up1dw A 0.017060891512176157477 0.0187910137172\n",
      "helper_MutationMarkovSquared1up1dw A 0.015910836994953305173 0.0171916837984\n",
      "helper_MutationMarkovSquared1up1dw G 0.022554167496520268339 0.0292744488443\n",
      "helper_MutationMarkovSquared1up1dw G 0.017123674211457566664 0.0218282141798\n",
      "helper_MutationMarkovSquared1up1dw G 0.016338327544741102784 0.021868512302\n",
      "helper_MutationMarkovSquared1up1dw AG 0.014036712009484155741 0.0150889735642\n",
      "helper_MutationMarkovSquared1up1dw AG 0.013299607479780367791 0.0143339863622\n",
      "helper_MutationMarkovSquared1up1dw AG 0.013773597928127745336 0.0149064161476\n",
      "helper_Whittaker3 AC 1.4582160196916238293 1.77922682414\n",
      "helper_Whittaker3 AC 1.4721513277910460394 1.79282601222\n",
      "helper_Whittaker3 AC 1.4844130793278249617 1.80594754564\n",
      "helper_MutationMarkovSquared1up2dw AC 0.02827854440648451855 0.0261963320934\n",
      "helper_MutationMarkovSquared1up2dw AC 0.05595885428425509232 0.0509500736681\n",
      "helper_MutationMarkovSquared1up2dw G 0.0060393359418520584367 0.00833558129389\n",
      "helper_MutationMarkovSquared1up2dw G 0.01738881414749033639 0.0236935924093\n",
      "helper_MutationMarkovSquared1up2dw G 0.025312440063404685438 0.0333547014723\n",
      "helper_MutationMarkovLinear1up2dw AC 0.006646810334131396724 0.00518600544746\n",
      "helper_MutationMarkovLinear1up2dw AC 0.0060745692678209112964 0.00476521622417\n",
      "helper_MutationMarkovLinear1up2dw AC 0.0062380361763788279286 0.00487512190737\n",
      "helper_MutationMarkovSquared1up3dw AT 0.0066655060092053272866 0.00772140765217\n",
      "helper_MutationMarkovSquared1up3dw AC 0.043087093164233374308 0.0459086851948\n",
      "helper_MutationMarkovSquared1up3dw AC 0.046393411867497021537 0.0415163542529\n",
      "helper_MutationMarkovSquared1up3dw A 0.016578923915318551652 0.0194339990825\n",
      "helper_MutationMarkovSquared1up3dw A 0.01965699063154648266 0.0210476082662\n",
      "helper_MutationMarkovSquared1up3dw G 0.028485013736206218106 0.0347519757736\n",
      "helper_MutationMarkovSquared1up3dw G 0.03743565714684932541 0.0439424396292\n",
      "helper_MutationMarkovSquared1up3dw G 0.07095540741206779399 0.075370940634\n",
      "helper_Whittaker4 G 0.7518682418254368923 0.778251502061\n",
      "helper_Whittaker4 G 0.75699981738828950724 0.778064375448\n",
      "helper_Whittaker4 AG 0.21228610613066379301 0.192089860832\n",
      "helper_Whittaker4 AG 0.21310086648053949257 0.192115428798\n",
      "helper_Whittaker2 AT 0.24931025416704956561 0.243324671569\n",
      "helper_Whittaker2 AT 0.2544408679500598652 0.248127974513\n",
      "helper_Whittaker2 AT 0.25784987662844835178 0.251829321154\n",
      "helper_Whittaker2 AC 1.4455127247061899401 1.75450156096\n",
      "helper_Whittaker2 AC 1.4579339382046652439 1.76881724643\n",
      "helper_Whittaker2 AC 1.4711957242648197027 1.78334090858\n",
      "helper_Whittaker2 A 0.49730577361532069005 0.542794457619\n",
      "helper_Whittaker2 A 0.5137751206195876263 0.558447870908\n",
      "helper_Whittaker2 A 0.52611970750867515423 0.573621723667\n",
      "helper_Whittaker2 G 0.74322874245680458066 0.798855918322\n",
      "helper_Whittaker2 G 0.73791704934661174703 0.795840242843\n",
      "helper_Whittaker2 G 0.7427828788127352968 0.794902752518\n",
      "helper_Whittaker2 AG 0.20686332204242482737 0.200211556707\n",
      "helper_Whittaker2 AG 0.20621299416161821898 0.200088257328\n",
      "helper_Whittaker2 AG 0.20602164058017942257 0.200178328775\n"
     ]
    }
   ],
   "source": [
    "from sequencing.calling.simcor.order.calibration.optimizer import Optimizer, Params, Reference\n",
    "from sequencing.calling.simcor.order.calibration.score import distance_from_model_across_lengths\n",
    "c0 = 4\n",
    "t0 = 'noPCR'\n",
    "t1 = 'PCR2only'\n",
    "t2 = 'PCR1-2'\n",
    "for model_name in models_results:\n",
    "    if model_name == 'helper_HipSTR':\n",
    "        continue\n",
    "#     for rut in ['AC']:\n",
    "    for rut in models_results[model_name]:\n",
    "        for res in models_results[model_name][rut][c0]:\n",
    "            ctup, fun, x = res\n",
    "            c0, c1, c2 = ctup\n",
    "            model_params = models_and_bounds[model_name[len('helper_'):]]['model']()\n",
    "            model = model_params.get_for_x(x)\n",
    "            hist_pairs = [\n",
    "                (\n",
    "                    repeat_number,\n",
    "                    [h-repeat_number for h in filtered_hists[rut][repeat_number][t0]], \n",
    "                    [h-repeat_number for h in filtered_hists[rut][repeat_number][t1]], \n",
    "                    [h-repeat_number for h in filtered_hists[rut][repeat_number][t2]], \n",
    "                ) for repeat_number in filtered_hists[rut]]\n",
    "            ref = Reference(\n",
    "                syn_hist_list=hist_pairs,\n",
    "                cycles_dict={syn_len:(c0, c1, c2) for syn_len in range(40)},\n",
    "            )\n",
    "            real_fun = distance_from_model_across_lengths(model, ref, 'dot')\n",
    "            if abs(real_fun - fun)>0.001:\n",
    "                print(model_name, rut, real_fun, fun)\n",
    "#                 print('!!!!!!!!!!!!')"
   ]
  },
  {
   "cell_type": "code",
   "execution_count": 12,
   "metadata": {},
   "outputs": [
    {
     "data": {
      "text/plain": [
       "(4, 14, 50)"
      ]
     },
     "execution_count": 12,
     "metadata": {},
     "output_type": "execute_result"
    }
   ],
   "source": []
  },
  {
   "cell_type": "code",
   "execution_count": 21,
   "metadata": {},
   "outputs": [
    {
     "data": {
      "text/plain": [
       "0.004225292677837040373"
      ]
     },
     "execution_count": 21,
     "metadata": {},
     "output_type": "execute_result"
    }
   ],
   "source": [
    "model_name = 'helper_MutationMarkovLinear1up3dw'\n",
    "rut = 'A'\n",
    "c0, c1, c2 = 4, 14, 40\n",
    "# x = [ 0.00117062 -0.0093831   0.00200528 -0.01080594  0.00106183 -0.01078417  0.00062377 -0.01049863]\n",
    "x = [0.0012521 , -0.0091638, 0.00408945, -0.03640044, 0.00067988,  -0.00947355, 0.00025592, -0.00343027]\n",
    "model_params = models_and_bounds[model_name[len('helper_'):]]['model']()\n",
    "model = model_params.get_for_x(x)\n",
    "hist_pairs = [\n",
    "    (\n",
    "        repeat_number,\n",
    "        [h-repeat_number for h in filtered_hists[rut][repeat_number][t0]], \n",
    "        [h-repeat_number for h in filtered_hists[rut][repeat_number][t1]], \n",
    "        [h-repeat_number for h in filtered_hists[rut][repeat_number][t2]], \n",
    "    ) for repeat_number in filtered_hists[rut]]\n",
    "ref = Reference(\n",
    "    syn_hist_list=hist_pairs,\n",
    "    cycles_dict={syn_len:(c0, c1, c2) for syn_len in range(40)},\n",
    ")\n",
    "real_fun = distance_from_model_across_lengths(model, ref, 'con')\n",
    "real_fun"
   ]
  },
  {
   "cell_type": "code",
   "execution_count": 26,
   "metadata": {},
   "outputs": [],
   "source": [
    "e = Client(\"192.168.10.220:10001\")"
   ]
  },
  {
   "cell_type": "code",
   "execution_count": 27,
   "metadata": {},
   "outputs": [
    {
     "name": "stderr",
     "output_type": "stream",
     "text": [
      "distributed.client - INFO - Receive restart signal from scheduler\n",
      "distributed.client - INFO - Receive restart signal from scheduler\n"
     ]
    },
    {
     "data": {
      "text/html": [
       "<table style=\"border: 2px solid white;\">\n",
       "<tr>\n",
       "<td style=\"vertical-align: top; border: 0px solid white\">\n",
       "<h3>Client</h3>\n",
       "<ul>\n",
       "  <li><b>Scheduler: </b>tcp://192.168.10.220:10001\n",
       "  <li><b>Dashboard: </b><a href='http://192.168.10.220:10003' target='_blank'>http://192.168.10.220:10003</a>\n",
       "</ul>\n",
       "</td>\n",
       "<td style=\"vertical-align: top; border: 0px solid white\">\n",
       "<h3>Cluster</h3>\n",
       "<ul>\n",
       "  <li><b>Workers: </b>20</li>\n",
       "  <li><b>Cores: </b>20</li>\n",
       "  <li><b>Memory: </b>97.54 GB</li>\n",
       "</ul>\n",
       "</td>\n",
       "</tr>\n",
       "</table>"
      ],
      "text/plain": [
       "<Client: scheduler='tcp://192.168.10.220:10001' processes=20 cores=20>"
      ]
     },
     "execution_count": 27,
     "metadata": {},
     "output_type": "execute_result"
    }
   ],
   "source": [
    "e.restart(timeout=120)"
   ]
  },
  {
   "cell_type": "code",
   "execution_count": 28,
   "metadata": {},
   "outputs": [],
   "source": [
    "incomplete_range = [\n",
    "    ('AC', 'helper_HipSTR'), \n",
    "    ('AC', 'helper_Whittaker1'), \n",
    "    ('AC', 'helper_Whittaker2'), \n",
    "    ('AC', 'helper_Whittaker3'), \n",
    "    ('AC', 'helper_Whittaker4'), \n",
    "    ('AC', 'helper_Whittaker5'), \n",
    "    ('AC', 'helper_Whittaker6'), \n",
    "    ('AC', 'helper_Whittaker7'), \n",
    "    ('AC', 'helper_Whittaker8'), \n",
    "    ('AC', 'helper_Whittaker9'), \n",
    "    ('AC', 'helper_MutationMarkovLinear1up1dw'), \n",
    "    ('AC', 'helper_MutationMarkovLinear1up2dw'), \n",
    "    ('AC', 'helper_MutationMarkovLinear1up3dw'), \n",
    "    ('AC', 'helper_MutationMarkovLinear2up2dw'), \n",
    "]"
   ]
  },
  {
   "cell_type": "code",
   "execution_count": 10,
   "metadata": {
    "scrolled": true
   },
   "outputs": [],
   "source": [
    "from sequencing.calling.simcor.order.calibration.optimizer import Optimizer, Params, Reference\n",
    "t0 = 'noPCR'\n",
    "t1 = 'PCR2only'\n",
    "t2 = 'PCR1-2'\n",
    "c0s = range(4,5)\n",
    "c1s = range(14,15,1)\n",
    "c2s = range(40,55,5)\n",
    "# fss = dict()\n",
    "# for helper_func, params, opt in bar(helper_optimization_functions_generator(models_and_bounds, iterations=100)):\n",
    "#     for repeat_unit in filtered_hists:\n",
    "# #     for repeat_unit in ['AC']:\n",
    "#         if (repeat_unit, helper_func.__name__) not in incomplete_range:\n",
    "#             continue\n",
    "# #         print(helper_func.__name__, repeat_unit)\n",
    "#         for c0, c1, c2 in itertools.product(c0s, c1s, c2s):\n",
    "#             hist_pairs = [\n",
    "#                 (\n",
    "#                     repeat_number,\n",
    "#                     [h-repeat_number for h in filtered_hists[repeat_unit][repeat_number][t0]], \n",
    "#                     [h-repeat_number for h in filtered_hists[repeat_unit][repeat_number][t1]], \n",
    "#                     [h-repeat_number for h in filtered_hists[repeat_unit][repeat_number][t2]], \n",
    "#                 ) for repeat_number in filtered_hists[repeat_unit]]\n",
    "#             ref = Reference(\n",
    "#                 syn_hist_list=hist_pairs,\n",
    "#                 cycles_dict={syn_len:(c0, c1, c2) for syn_len in range(40)},\n",
    "#             )\n",
    "#             fss.setdefault(\n",
    "#                 helper_func.__name__, dict()\n",
    "#             ).setdefault(\n",
    "#                 repeat_unit, dict()\n",
    "#             ).setdefault(\n",
    "#                 c0, list()\n",
    "#             ).append(e.submit(helper_func, params, opt, ref))\n",
    "# #         print()"
   ]
  },
  {
   "cell_type": "code",
   "execution_count": 11,
   "metadata": {},
   "outputs": [],
   "source": [
    "import functools\n",
    "import numpy\n",
    "\n",
    "def get_finished(futures):\n",
    "    for f in futures:\n",
    "        if f.status in ['finished', 'cancelled']:\n",
    "            yield f\n",
    "\n",
    "# @functools.lru_cache(maxsize=10000, typed=False)\n",
    "# def defuture(f):\n",
    "#     res = f.result()\n",
    "# #     f.release()\n",
    "#     return res\n",
    "\n",
    "def defuture(f):\n",
    "    return f\n",
    "\n",
    "def extract_p_a_p_b_cycles(res):\n",
    "    p, ctup, fun, x = res\n",
    "    if len(p.coeffs) != 2:\n",
    "        p_a = 0\n",
    "        p_b = p.coeffs[0]\n",
    "    else:\n",
    "        p_a, p_b = p.coeffs\n",
    "    c0, c1, c2 = ctup\n",
    "    return p_a, p_b, c0, c1, c2\n",
    "\n",
    "\n",
    "def extract_c1_c2(res):\n",
    "    ctup, fun, x = res\n",
    "    c0, c1, c2 = ctup\n",
    "    return c1, c2\n",
    "\n",
    "\n",
    "def extract_fun_x_params(res):\n",
    "    ctup, fun, x_params = res\n",
    "    return fun, x_params\n",
    "\n",
    "\n",
    "def aggregate_and_filter_futures(futures, extract_xy, allowed_xy):\n",
    "    dd = dict()\n",
    "    for f in futures:\n",
    "#         if f.status == 'error':\n",
    "#             continue\n",
    "        res = defuture(f)\n",
    "        x, y = extract_xy(res)\n",
    "        fun, x_params = extract_fun_x_params(res)\n",
    "#         print(allowed_xy, (x, y))\n",
    "        if not allowed_xy or (x, y) in allowed_xy:\n",
    "#             print('YYYYYYYYYYYYYYYYYY')\n",
    "            dd.setdefault(x, dict())[y] = fun\n",
    "#     print(Counter([f.status for f in futures]))\n",
    "#     print()\n",
    "    return dd\n",
    "\n",
    "\n",
    "def plot_heatmaps3(futures, extract_xy, allowed_xy):\n",
    "    dd = aggregate_and_filter_futures(futures, extract_xy, allowed_xy)\n",
    "    if not dd:\n",
    "        return\n",
    "    best_score = min(min(i.values()) for i in dd.values() if i!=numpy.nan)\n",
    "    print(best_score)\n",
    "    df = pd.DataFrame.from_dict(dd)\n",
    "    ax = sns.heatmap(df, cmap=plt.cm.Blues, linewidths=0.)\n",
    "    fig = ax.get_figure()\n",
    "    plt.show()\n",
    "\n",
    "\n",
    "def get_df(futures, extract_xy, allowed_xy):\n",
    "    dd = aggregate_and_filter_futures(futures, extract_xy, allowed_xy)\n",
    "    if not dd:\n",
    "        return\n",
    "    best_score = min(min(i.values()) for i in dd.values() if i!=numpy.nan)\n",
    "    df = pd.DataFrame.from_dict(dd)\n",
    "    return df"
   ]
  },
  {
   "cell_type": "code",
   "execution_count": 12,
   "metadata": {},
   "outputs": [],
   "source": [
    "def count_local_minimas(y):\n",
    "    local_minimas = 0\n",
    "    for i in range(len(y)-2):\n",
    "        if y[i] > y[i+1] < y[i+2]:\n",
    "            local_minimas += 1\n",
    "    return local_minimas"
   ]
  },
  {
   "cell_type": "code",
   "execution_count": 13,
   "metadata": {},
   "outputs": [],
   "source": [
    "fss = models_results"
   ]
  },
  {
   "cell_type": "code",
   "execution_count": 20,
   "metadata": {
    "scrolled": true
   },
   "outputs": [
    {
     "name": "stdout",
     "output_type": "stream",
     "text": [
      "helper_Whittaker4 G 14 45 0.778251502061 [0.43452076, 0.03277085, 5.17750508, 0.89432893]\n",
      "\n",
      "helper_Whittaker4 G 14 50 0.778064375448 [0.35962375, 0.02951804, 5.09861354, 0.88892023]\n",
      "\n",
      "helper_Whittaker4 AG 14 40 0.192089860832 [0.44010037, 0.02590671, 5.08291834, 0.68809835]\n",
      "\n",
      "helper_Whittaker4 AG 14 50 0.192115428798 [0.35903813, 0.0209818, 5.09825778, 0.69059103]\n",
      "\n",
      "helper_MutationMarkovSquared1up2dw A 14 40 0.0102414849735 [-3.07572831e-06, 0.000302291142, 0.00197433198, 6.64332893e-05, 0.000292741876, 0.000971479715, 6.43847764e-06, 0.000291748795, 0.000921788567]\n",
      "\n",
      "helper_MutationMarkovSquared1up2dw A 14 45 0.00993501694238 [-7.68169458e-06, 0.000248423514, 0.00199388049, 6.52895343e-05, 0.000242679796, 0.000920778477, 7.88717404e-06, 0.000129309935, 0.000892053758]\n",
      "\n",
      "helper_MutationMarkovSquared1up2dw A 14 50 0.00647358938661 [-8.85050115e-06, 0.000410326594, 0.00227246304, 7.4236055e-05, 4.32066249e-05, -0.00112885406, 2.99809008e-06, 0.000284372569, -0.000762723542]\n",
      "\n",
      "helper_MutationMarkovSquared1up2dw AT 14 40 0.00250786838848 [2.47459526e-05, 0.000159674905, -0.000987159377, 0.000183421842, -6.89404038e-05, -0.00124349724, 4.48934771e-05, -0.000153587659, -0.00133723145]\n",
      "\n",
      "helper_MutationMarkovSquared1up2dw AT 14 45 0.00194979250245 [2.74432124e-05, 0.000396950229, -0.00316872002, 0.000202355503, -0.000249257713, -0.00301413702, 5.87814274e-05, -0.000196842364, -0.00281063092]\n",
      "\n",
      "helper_MutationMarkovSquared1up2dw AT 14 50 0.00375620582408 [2.10033616e-05, 0.000311648732, -0.00175880551, 0.000170885345, -0.000140478052, -0.00161394609, 4.21721866e-05, -0.000113604447, -0.00184134148]\n",
      "\n",
      "helper_MutationMarkovSquared1up2dw AC 14 40 0.0390775656406 [-7.79713465e-06, -0.000211660096, -0.00194729118, 3.51508952e-05, 0.000248600018, 0.00221059534, 3.25685207e-07, 0.000246374107, 0.00221042133]\n",
      "\n",
      "helper_MutationMarkovSquared1up2dw AC 14 45 0.0261963320934 [-1.07661912e-05, -8.56836595e-05, -0.00086686419, 2.99707027e-05, 0.000257092201, 0.00229898975, 2.14996699e-06, 0.000256282329, 0.000947111741]\n",
      "\n",
      "helper_MutationMarkovSquared1up2dw AC 14 50 0.0509500736681 [-4.67500109e-06, -0.000174083085, -0.00158658762, 3.31808082e-05, 0.000240485158, 0.00214915426, -5.24186911e-06, 0.00024147029, 0.0021491595]\n",
      "\n",
      "helper_MutationMarkovSquared1up2dw G 14 40 0.00833558129389 [-0.00012512904, 0.000565949009, 0.00104081693, 0.000239152758, -0.000460362162, -0.00512816152, 1.11723471e-05, 0.000637457731, -0.00461639981]\n",
      "\n",
      "helper_MutationMarkovSquared1up2dw G 14 45 0.0236935924093 [-7.64767539e-05, 6.51535057e-05, 0.000243135543, 0.00013969123, 6.80455836e-05, -0.000488183661, 9.39135253e-06, 0.000273381297, -0.000461584038]\n",
      "\n",
      "helper_MutationMarkovSquared1up2dw G 14 50 0.0333547014723 [-5.4611098e-05, -7.53573765e-05, -0.000696095412, 0.000116471669, 8.81011512e-05, 0.000692228492, 1.02561666e-05, 0.000101722325, 0.000694371067]\n",
      "\n",
      "helper_MutationMarkovSquared1up2dw AG 14 40 0.00649614426813 [-2.44776715e-05, -6.17431951e-05, 0.00278196906, 4.1759465e-05, 0.000217840518, 0.00190111731, -8.04452494e-06, 0.0003645317, 0.00198909164]\n",
      "\n",
      "helper_MutationMarkovSquared1up2dw AG 14 45 0.00665870369029 [-1.96447778e-05, -0.000156592953, 0.00185341237, 3.22947353e-05, 0.000220802568, 0.00196479584, -1.82291198e-06, 0.000219426039, 0.00184053201]\n",
      "\n",
      "helper_MutationMarkovSquared1up2dw AG 14 50 0.00646924874158 [-1.93595949e-05, -0.000128292914, 0.00188902561, 2.99620679e-05, 0.000218707041, 0.00190031048, -2.49540356e-06, 0.000217677404, 0.0014538338]\n",
      "\n",
      "helper_Whittaker1 A 14 40 0.958869009203 [0.01160329, 0.40266327]\n",
      "\n",
      "helper_Whittaker1 A 14 45 0.972810193336 [0.01030571, 0.40183247]\n",
      "\n",
      "helper_Whittaker1 A 14 50 0.984646561688 [0.00923704, 0.3997283]\n",
      "\n",
      "helper_Whittaker1 AT 14 40 0.436658304649 [0.01353563, 0.64971066]\n",
      "\n",
      "helper_Whittaker1 AT 14 45 0.43977815105 [0.012221, 0.65316398]\n",
      "\n",
      "helper_Whittaker1 AT 14 50 0.442555771094 [0.01106793, 0.65478322]\n",
      "\n",
      "helper_Whittaker1 AC 14 40 3.97521353041 [0.01364903, 0.4719726]\n",
      "\n",
      "helper_Whittaker1 AC 14 45 3.98491126929 [0.01223461, 0.47400053]\n",
      "\n",
      "helper_Whittaker1 AC 14 50 3.99486869677 [0.01107212, 0.47527307]\n",
      "\n",
      "helper_Whittaker1 G 14 40 2.10849084191 [0.02019237, 0.7118236]\n",
      "\n",
      "helper_Whittaker1 G 14 45 2.10687125459 [0.01804648, 0.71340478]\n",
      "\n",
      "helper_Whittaker1 G 14 50 2.10634939203 [0.01625777, 0.71398215]\n",
      "\n",
      "helper_Whittaker1 AG 14 40 0.564009613608 [0.013794, 0.55546697]\n",
      "\n",
      "helper_Whittaker1 AG 14 45 0.563849150177 [0.01236785, 0.55744955]\n",
      "\n",
      "helper_Whittaker1 AG 14 50 0.563973917305 [0.01100004, 0.55504777]\n",
      "\n",
      "helper_Whittaker9 AC 14 50 0.00973657496549 [0.30919701, 0.01214582, 0.15916418, 0.09692036, 7.95418644, 1.49319501]\n",
      "\n",
      "helper_Whittaker9 AG 14 40 0.00160619921881 [0.00610711, 0.01029317, 0.03663377, 0.10438394, 1.78994734, 1.33819471]\n",
      "\n",
      "helper_Whittaker9 AG 14 45 0.00109355902849 [0.00606383, 0.00922745, 0.0715194, 0.10948362, 2.32019383, 1.39864821]\n",
      "\n",
      "helper_Whittaker6 A 14 40 0.00698695509327 [0.00353076, 0.01195568, 0.10326076, 1.27156634]\n",
      "\n",
      "helper_Whittaker6 A 14 45 0.00632712597958 [0.00347488, 0.01136383, 0.10810279, 1.37050187]\n",
      "\n",
      "helper_Whittaker6 A 14 50 0.00608404354021 [0.00333203, 0.01040424, 0.11228822, 1.4222653]\n",
      "\n",
      "helper_Whittaker6 AC 14 40 0.0114561270475 [0.00147364, 0.0145371, 0.09140742, 1.3932923]\n",
      "\n",
      "helper_Whittaker6 AC 14 45 0.0108161465692 [0.00155959, 0.01325019, 0.09375816, 1.4393195]\n",
      "\n",
      "helper_Whittaker6 AG 14 40 0.00169951793817 [0.000902132984, 0.0104886627, 0.104487161, 1.35196954]\n",
      "\n",
      "helper_Whittaker6 AG 14 45 0.0011655740968 [0.000949043091, 0.00947571791, 0.109981917, 1.42498347]\n",
      "\n",
      "helper_Whittaker6 AG 14 50 0.000883786055851 [0.00096721303, 0.00860032052, 0.115259095, 1.49138824]\n",
      "\n",
      "helper_MutationMarkovSquared1up3dw A 14 40 0.0194339990825 [1.09975829e-05, 0.000138033013, 0.0013249517, 4.09301649e-05, 0.000183582116, 0.00164150751, 1.7409268e-05, 0.000182308726, 0.0016336818, -4.85150517e-06, 0.000181588532, 0.00152974599]\n",
      "\n",
      "helper_MutationMarkovSquared1up3dw A 14 45 0.0210476082662 [3.52673687e-06, 0.000155653292, 0.00142632699, 4.52702591e-05, 0.000175943676, 0.0015685226, 1.77301818e-05, 0.0001747015, 0.00155507979, -1.09873709e-05, 0.000173984119, 0.00156837515]\n",
      "\n",
      "helper_MutationMarkovSquared1up3dw A 14 50 0.0272089718661 [-5.90146198e-07, 0.000158849191, 0.00147045309, 5.15091586e-05, 0.000174196471, 0.00142689792, 1.55832641e-05, 0.000173383039, 0.00142724636, -1.56558125e-05, 0.000174254233, 0.00155221213]\n",
      "\n",
      "helper_MutationMarkovSquared1up3dw AT 14 40 0.0021884746714 [1.56366999e-05, 0.000223218776, 4.33429746e-05, 0.000200624161, -0.000206023759, -0.00181624958, 8.6425034e-06, 0.000188800409, -0.00061659574, 2.20622173e-05, -0.000163845421, -0.000713555773]\n",
      "\n",
      "helper_MutationMarkovSquared1up3dw AT 14 45 0.006502297479 [2.45420874e-05, 1.3380101e-05, 1.51743656e-07, 0.000152359354, 4.11479121e-06, -4.40183431e-06, 1.09890515e-05, 6.25050669e-06, -3.11840488e-06, 6.45699845e-06, 9.55585399e-06, -2.06756175e-06]\n",
      "\n",
      "helper_MutationMarkovSquared1up3dw AT 14 50 0.00772140765217 [2.70171815e-05, 3.48908165e-05, -5.50867663e-05, 0.000142220157, -1.61817829e-05, -6.63352643e-05, 1.32564615e-05, 1.19139792e-05, -6.091344e-05, 2.72992893e-06, 4.71105987e-05, -5.93773354e-05]\n",
      "\n",
      "helper_MutationMarkovSquared1up3dw AC 14 40 0.0459086851948 [-1.13785758e-05, -0.000168103259, -0.00151727444, 3.67456144e-05, 0.000170360992, 0.00151738878, 5.17034394e-06, 0.000168923087, 0.00151730391, -7.99005282e-06, 0.000168654571, 0.00151729034]\n",
      "\n",
      "helper_MutationMarkovSquared1up3dw AC 14 45 0.0387646143997 [-1.00230301e-05, -0.000153461694, -0.00138653139, 3.47885934e-05, 0.000179510188, 0.00159936695, 1.92487474e-06, 0.000178148546, 0.00159928535, -7.56208023e-06, 0.000178071383, 0.00159927955]\n",
      "\n",
      "helper_MutationMarkovSquared1up3dw AC 14 50 0.0415163542529 [-6.23471272e-06, -0.000152709585, -0.0013836958, 3.2069062e-05, 0.000212039407, 0.00187118076, -2.77306065e-06, 0.000209009684, 0.0018711154, -6.80483817e-06, 0.00020929478, 0.00187112324]\n",
      "\n",
      "helper_MutationMarkovSquared1up3dw G 14 40 0.0347519757736 [-6.84208361e-05, -0.000104069709, -0.000932532031, 0.000140454257, 0.000112212988, 0.000928515976, 1.58305126e-05, 0.000118607548, 0.000929792499, -1.11965697e-05, 0.00011712295, 0.00093163696]\n",
      "\n",
      "helper_MutationMarkovSquared1up3dw G 14 45 0.0439424396292 [-5.81939527e-05, -0.000125995372, -0.00119460763, 0.000119280141, 0.000149595376, 0.00114974508, 6.93839325e-06, 0.000157444927, 0.00115123389, -1.73351256e-05, 0.000155325718, 0.00126863047]\n",
      "\n",
      "helper_MutationMarkovSquared1up3dw G 14 50 0.075370940634 [-3.87774547e-05, -0.00021281745, -0.00191130982, 9.51484414e-05, 0.000219559074, 0.00191101411, -5.32301466e-06, 0.000214045973, 0.00191068716, -2.90716853e-05, 0.0002116424, 0.0019108631]\n",
      "\n",
      "helper_MutationMarkovSquared1up3dw AG 14 40 0.00822265190581 [-1.90434834e-05, -0.000192293701, 0.00187438398, 4.09160757e-05, 0.000219487846, 0.00195108499, -1.53645926e-06, 0.000217223878, 0.00195092999, -1.31838955e-05, 0.00021697175, 0.00195091594]\n",
      "\n",
      "helper_MutationMarkovSquared1up3dw AG 14 45 0.0086610405724 [-1.58834724e-05, -0.00018250609, 0.00153299531, 3.34943746e-05, 0.000185112853, 0.00164576841, 3.31426607e-08, 0.000183239114, 0.00164564678, -1.09522384e-05, 0.000182975862, 0.00164563233]\n",
      "\n",
      "helper_MutationMarkovSquared1up3dw AG 14 50 0.00570161750766 [-1.61464561e-05, -0.000118851815, 0.00131895906, 3.40558594e-05, 0.000170477547, 0.00151881389, -1.01285833e-06, 0.000168888009, 0.00151871438, -7.73165189e-06, 0.00016855249, 0.00151869768]\n",
      "\n",
      "helper_MutationMarkovSquared2up2dw A 14 40 0.0179670361506 [2.45283077e-05, 0.000304077708, 0.00204507599, -2.20264094e-05, -0.000166173311, -0.0018073382, 3.55660303e-05, 0.000285458496, 0.0022008444, 1.70478617e-05, 0.000284877685, 0.00150134195]\n",
      "\n",
      "helper_MutationMarkovSquared2up2dw A 14 45 0.012896258181 [1.25417469e-05, 0.000148131608, 0.00131183659, -5.13740329e-06, -0.000140593568, -0.00131154762, 6.03357877e-05, 0.000147732464, 0.00131147931, 8.65657372e-06, 0.0001513507, 0.00131143626]\n",
      "\n",
      "helper_MutationMarkovSquared2up2dw A 14 50 0.00841337744587 [4.44480277e-06, 0.00029168526, 0.00229258722, -1.06593459e-05, 5.5850985e-05, 0.000327499897, 6.40522067e-05, 3.97898069e-05, -0.000276669878, 5.8753965e-06, 0.000315431521, -0.000173975745]\n",
      "\n",
      "helper_MutationMarkovSquared2up2dw AT 14 40 0.00163087780402 [-6.81123314e-06, 0.00034972651, 0.000479437093, -2.88952869e-05, 0.000398853798, 0.000533994453, 0.000210889504, -0.000224975913, -0.00320146111, 3.77203102e-05, -2.2690656e-05, -0.00130385779]\n",
      "\n",
      "helper_MutationMarkovSquared2up2dw AT 14 45 0.002482510397 [1.9829555e-05, 0.000239731756, -0.00180901521, -2.53541644e-05, 0.000247287379, 0.00189629137, 0.000187094253, -0.000183364016, -0.00195899268, 4.71135636e-05, -0.000129314209, -0.00184850096]\n",
      "\n",
      "helper_MutationMarkovSquared2up2dw AT 14 50 0.00480318774628 [-8.18740598e-06, 0.000324834063, 0.000830096545, -2.89305675e-05, 0.000325597327, 0.00118969009, 0.000189946691, -0.000202254912, -0.00258644597, -3.75079852e-06, 0.000248215445, -2.19290262e-06]\n",
      "\n",
      "helper_MutationMarkovSquared2up2dw AC 14 40 0.0518644589966 [6.80768318e-06, -0.000306648989, -0.00281875472, 9.11492462e-06, -0.000302888829, -0.00281862461, 4.16986975e-05, 0.00032005784, 0.00281930614, -7.78412595e-06, 0.000331050279, 0.00281956175]\n",
      "\n",
      "helper_MutationMarkovSquared2up2dw AC 14 45 0.0488427210671 [-2.1948901e-06, -0.000142004021, -0.00128572995, -1.36011396e-06, -0.000141227939, -0.00128570439, 3.34339037e-05, 0.000144802848, 0.00128586204, 3.86916788e-06, 0.000144572098, 0.00128581729]\n",
      "\n",
      "helper_MutationMarkovSquared2up2dw AC 14 50 0.0347758743753 [2.73002051e-07, -4.56653499e-05, -0.000414936946, -5.17991408e-06, -4.5463428e-05, -0.000414978175, 3.57808052e-05, 0.000198484422, 0.00177202835, -8.93982661e-07, 0.000197865272, 0.00177198748]\n",
      "\n",
      "helper_MutationMarkovSquared2up2dw G 14 40 0.024856684143 [-6.99202736e-05, -6.45129561e-05, -0.000571892583, -2.48518754e-05, -5.32886301e-05, -0.000570909585, 0.000141232276, 7.90975709e-05, 0.000567938678, 2.05730594e-05, 9.65084977e-05, 0.000569683076]\n",
      "\n",
      "helper_MutationMarkovSquared2up2dw G 14 45 0.0464404678638 [-5.11572872e-05, -0.000185997642, -0.0016631202, -6.05187004e-06, -0.000182893287, -0.00166255134, 0.000101198562, 0.000192244943, 0.00166165138, 4.47908469e-06, 0.000193720217, 0.00166199429]\n",
      "\n",
      "helper_MutationMarkovSquared2up2dw G 14 50 0.0404037615307 [-5.02624596e-05, -9.25109788e-05, -0.000891487225, -1.09852353e-05, -0.000103944803, -0.000878423585, 9.68856449e-05, 0.00022815906, 0.000819861801, -2.98174174e-07, 0.000234460606, 0.000820686332]\n",
      "\n",
      "helper_MutationMarkovSquared2up2dw AG 14 40 0.00648097584968 [-7.05347792e-06, -0.000172840275, 0.00187253301, -4.46653391e-06, -0.000152218491, -0.00146130823, 3.5806309e-05, 0.000240409861, 0.00211620207, -1.51826564e-06, 0.000239084469, 0.00193841933]\n",
      "\n",
      "helper_MutationMarkovSquared2up2dw AG 14 45 0.0072829946033 [-6.5916285e-06, -0.00015127098, 0.0017139934, -4.44101504e-06, -0.000124685223, -0.00124663538, 3.21428359e-05, 0.000226616151, 0.00201270514, -3.15256934e-06, 0.000225463907, 0.00201724496]\n",
      "\n",
      "helper_MutationMarkovSquared2up2dw AG 14 50 0.008174033842 [-4.96202244e-06, -0.000126927667, 0.00159940202, -2.54066447e-06, -0.000126258591, -0.00114929859, 2.75078747e-05, 0.00019623357, 0.00174391632, -2.28112107e-06, 0.000195309297, 0.00174384364]\n",
      "\n",
      "helper_Whittaker2 A 14 40 0.542794457619 [0.02111771, 1.57027474, 0.53423979]\n",
      "\n",
      "helper_Whittaker2 A 14 45 0.558447870908 [0.01978047, 1.85303021, 0.55207117]\n",
      "\n",
      "helper_Whittaker2 A 14 50 0.573621723667 [0.01593792, 1.81398527, 0.50562802]\n",
      "\n",
      "helper_Whittaker2 AT 14 40 0.243324671569 [0.02628064, 3.08329417, 0.81846433]\n",
      "\n",
      "helper_Whittaker2 AT 14 45 0.248127974513 [0.02402472, 3.10305523, 0.83311282]\n",
      "\n",
      "helper_Whittaker2 AT 14 50 0.251829321154 [0.0205641, 3.06939462, 0.80151232]\n",
      "\n",
      "helper_Whittaker2 AC 14 40 1.75450156096 [0.0247444, 2.30327288, 0.62042652]\n",
      "\n",
      "helper_Whittaker2 AC 14 45 1.76881724643 [0.02218464, 2.30628754, 0.62373286]\n",
      "\n",
      "helper_Whittaker2 AC 14 50 1.78334090858 [0.02044134, 2.31603202, 0.63471764]\n",
      "\n",
      "helper_Whittaker2 G 14 40 0.798855918322 [0.03488262, 3.1841644, 0.86860181]\n",
      "\n",
      "helper_Whittaker2 G 14 45 0.795840242843 [0.0324813, 3.21033711, 0.89665178]\n",
      "\n",
      "helper_Whittaker2 G 14 50 0.794902752518 [0.02967187, 3.21507565, 0.89881155]\n",
      "\n",
      "helper_Whittaker2 AG 14 40 0.200211556707 [0.02677659, 3.03583713, 0.71061798]\n",
      "\n",
      "helper_Whittaker2 AG 14 45 0.200088257328 [0.02453379, 3.05323275, 0.72681469]\n",
      "\n",
      "helper_Whittaker2 AG 14 50 0.200178328775 [0.02249538, 3.06075292, 0.73665341]\n",
      "\n",
      "helper_Whittaker7 A 14 45 0.00631706021559 [0.01253285, 0.10783512, 2.50864239, 1.44617129]\n",
      "\n",
      "helper_Whittaker7 A 14 50 0.00606058821288 [0.0111632, 0.11235294, 2.50994162, 1.48289515]\n",
      "\n",
      "helper_Whittaker7 AT 14 40 0.0053805590649 [0.01073386, 0.22817059, 5.74008744, 2.0489928]\n",
      "\n",
      "helper_Whittaker7 AT 14 45 0.0063921454235 [0.00862315, 0.24216042, 6.96604306, 2.09479415]\n",
      "\n",
      "helper_Whittaker7 AT 14 50 0.00749548869631 [0.00744867787, 0.247222466, 7.86263105, 2.09446747]\n",
      "\n",
      "helper_Whittaker7 AC 14 40 0.0108850131732 [0.01452053, 0.09062713, 3.30777776, 1.377458]\n",
      "\n",
      "helper_Whittaker7 AC 14 45 0.010297709692 [0.013259, 0.09314654, 3.22589626, 1.42708581]\n",
      "\n",
      "helper_Whittaker7 AC 14 50 0.0103218725533 [0.01207042, 0.09405956, 3.21267382, 1.44499332]\n",
      "\n",
      "helper_Whittaker7 AG 14 40 0.00162350620472 [0.01040946, 0.10360785, 3.46573722, 1.33261428]\n",
      "\n",
      "helper_Whittaker7 AG 14 45 0.00110659618972 [0.00937638, 0.1090381, 3.41778742, 1.4026741]\n",
      "\n",
      "helper_Whittaker7 AG 14 50 0.000836417364014 [0.00845654, 0.11429043, 3.37961587, 1.46392478]\n",
      "\n",
      "helper_HipSTR A 14 40 12.8178433464 [0.03720407]\n",
      "\n",
      "helper_HipSTR A 14 45 12.9123861939 [0.03776288]\n",
      "\n",
      "helper_HipSTR A 14 50 12.9686299876 [0.03803324]\n",
      "\n",
      "helper_HipSTR AT 14 40 17.4900470273 [0.1259764]\n",
      "\n",
      "helper_HipSTR AT 14 45 17.727437069 [0.13029925]\n",
      "\n",
      "helper_HipSTR AT 14 50 17.8867995706 [0.13030172]\n",
      "\n",
      "helper_HipSTR AC 14 40 45.9513713911 [0.03326924]\n",
      "\n",
      "helper_HipSTR AC 14 45 46.3221922078 [0.03446638]\n",
      "\n",
      "helper_HipSTR AC 14 50 46.5434081965 [0.03529775]\n",
      "\n",
      "helper_HipSTR G 14 40 41.4717026458 [0.12158396]\n",
      "\n",
      "helper_HipSTR G 14 45 41.7954793285 [0.12709271]\n",
      "\n",
      "helper_HipSTR G 14 50 42.0367683864 [0.13173448]\n",
      "\n",
      "helper_HipSTR AG 14 40 20.265382355 [0.12158488]\n",
      "\n",
      "helper_HipSTR AG 14 45 20.5365540945 [0.12709387]\n",
      "\n",
      "helper_HipSTR AG 14 50 20.7523233752 [0.13174237]\n",
      "\n",
      "helper_Whittaker8 A 14 45 0.00632745143833 [0.00343441, 0.01123838, 0.10799448, 0.10840878, 1.36731197]\n",
      "\n",
      "helper_Whittaker8 AG 14 40 0.00164058095541 [0.0054176, 0.01042482, 0.00509643, 0.10403116, 1.34426465]\n",
      "\n",
      "helper_Whittaker8 AG 14 45 0.00112745781327 [0.00291878, 0.00934361, 0.05073046, 0.1097812, 1.41342792]\n",
      "\n",
      "helper_Whittaker8 AG 14 50 0.00331213447556 [0.01009406, 0.0700004, 0.11342738, 0.12299809, 3.48630506]\n",
      "\n",
      "helper_Whittaker5 A 14 40 0.120092781344 [0.00300525, 0.12083255, 0.7171783]\n",
      "\n",
      "helper_Whittaker5 AT 14 40 0.130546436634 [0.00663182, 0.11712265, 0.85855544]\n",
      "\n",
      "helper_Whittaker5 AT 14 45 0.174523051754 [0.04322627, 0.13506486, 2.60880745]\n",
      "\n",
      "helper_Whittaker5 AT 14 50 0.135905434186 [0.00635987, 0.12057601, 0.99003168]\n",
      "\n",
      "helper_Whittaker5 AC 14 40 0.977012088471 [0.00199462, 0.13119131, 0.75691024]\n",
      "\n",
      "helper_Whittaker5 AC 14 45 0.927349367606 [0.00172951, 0.13473048, 0.78375176]\n",
      "\n",
      "helper_Whittaker5 AC 14 50 0.888152260134 [0.00146062, 0.13753025, 0.7739983]\n",
      "\n",
      "helper_Whittaker5 G 14 40 0.862374217222 [0.00852682, 0.11251721, 0.86183124]\n",
      "\n",
      "helper_Whittaker5 G 14 45 0.856802613933 [0.00714828, 0.1133218, 0.83615645]\n",
      "\n",
      "helper_Whittaker5 G 14 50 0.865211361791 [0.00529232, 0.11354648, 0.72582146]\n",
      "\n",
      "helper_Whittaker5 AG 14 40 0.144255322356 [0.00181609, 0.13553516, 0.75608525]\n",
      "\n",
      "helper_Whittaker5 AG 14 45 0.136485277045 [0.00137109, 0.13769037, 0.68391307]\n",
      "\n",
      "helper_Whittaker5 AG 14 50 0.131781338619 [0.0016036, 0.13790157, 0.78665715]\n",
      "\n",
      "helper_MutationMarkovLinear2up2dw A 14 40 0.0026367536492 [0.00118645, -0.00779824, -0.00031374, 0.00225078, 0.00230985, -0.01451796, 0.00156739, -0.0172959]\n",
      "\n",
      "helper_MutationMarkovLinear2up2dw A 14 45 0.00257599192929 [0.00111863, -0.00781558, -0.0002505, 0.00298282, 0.00224338, -0.01386396, 0.00139909, -0.01570048]\n",
      "\n",
      "helper_MutationMarkovLinear2up2dw A 14 50 0.00299233860851 [0.00112905, -0.00835649, -0.0001552, 0.00202292, 0.00219098, -0.01373069, 0.00126921, -0.01427275]\n",
      "\n",
      "helper_MutationMarkovLinear2up2dw AT 14 40 0.00212991296629 [0.00117513, -0.00646531, -0.00040857, 0.00408782, 0.00395972, -0.02236379, 0.00162794, -0.01446962]\n",
      "\n",
      "helper_MutationMarkovLinear2up2dw AT 14 45 0.00321157822262 [0.00107158, -0.00629145, -0.00021575, 0.00251742, 0.0037858, -0.02192444, 0.00142271, -0.01285881]\n",
      "\n",
      "helper_MutationMarkovLinear2up2dw AT 14 50 0.00959886707572 [-0.00011821, 0.00371933, -0.00016506, 0.00299278, 0.00329692, -0.01633015, 0.00014978, -0.00065512]\n",
      "\n",
      "helper_MutationMarkovLinear2up2dw AC 14 40 0.00534019634084 [0.000179404806, -0.000327621055, -3.03183394e-05, -0.000105007772, 0.00195676802, -0.0113647707, 0.000830037932, -0.00777537911]\n",
      "\n",
      "helper_MutationMarkovLinear2up2dw AC 14 45 0.0130491559202 [-1.27136805e-05, 0.00243953823, -0.000348822189, 0.00435039583, 0.00129783162, -0.00324528717, 0.000586040395, -0.0030937881]\n",
      "\n",
      "helper_MutationMarkovLinear2up2dw AC 14 50 0.0171071888248 [-0.00026117, 0.00224337, -0.00021607, 0.00407456, 0.0011577, -0.00268205, 0.00049651, -0.00265273]\n",
      "\n",
      "helper_MutationMarkovLinear2up2dw G 14 40 0.00398860885959 [-0.00161492, 0.00851271, -0.00070772, 0.00459869, 0.00375295, -0.02263933, 0.00191146, -0.01765466]\n",
      "\n",
      "helper_MutationMarkovLinear2up2dw G 14 45 0.00363806268631 [-0.00139093553, 0.00686106294, -0.000344476525, -1.78373985e-05, 0.00313092864, -0.0179707477, 0.00175779124, -0.0164038044]\n",
      "\n",
      "helper_MutationMarkovLinear2up2dw G 14 50 0.00212407804834 [-0.000542096792, 4.50021331e-05, 0.000878030368, -0.0122586, 0.00450085847, -0.0335855325, 0.000950786966, -0.00803890424]\n",
      "\n",
      "helper_MutationMarkovLinear2up2dw AG 14 40 0.00292267190269 [-0.00038656, -0.00233217, -0.00036234, 0.00413358, 0.00124391, -0.00283879, 0.00049296, -0.00265432]\n",
      "\n",
      "helper_MutationMarkovLinear2up2dw AG 14 45 0.00118213786886 [0.00042156, -0.00316606, -0.00055469, 0.00462259, 0.00156701, -0.0095878, 0.00068794, -0.00699523]\n",
      "\n",
      "helper_MutationMarkovLinear2up2dw AG 14 50 0.00144133403308 [0.00046034, -0.00338179, -0.0006233, 0.00575727, 0.00127361, -0.00599015, 0.00056462, -0.00483224]\n",
      "\n",
      "helper_MutationMarkovLinear1up2dw A 14 40 0.00321946508061 [0.0013876, -0.01446843, 0.00247291, -0.01698761, 0.00159827, -0.01746724]\n",
      "\n",
      "helper_MutationMarkovLinear1up2dw A 14 45 0.00231847164027 [0.00071474, -0.00248822, 0.00273957, -0.02173246, 0.00112556, -0.0110976]\n",
      "\n",
      "helper_MutationMarkovLinear1up2dw A 14 50 0.00231560666673 [0.00074079, -0.00281352, 0.00297622, -0.0251689, 0.0008125, -0.00756382]\n",
      "\n",
      "helper_MutationMarkovLinear1up2dw AT 14 40 0.00491481626842 [0.00138298, -0.01679589, 0.00361032, -0.02115995, 0.00169729, -0.01624145]\n",
      "\n",
      "helper_MutationMarkovLinear1up2dw AT 14 45 0.0019430841445 [0.00072874, -0.00235573, 0.00517766, -0.03743164, 0.00100723, -0.00819463]\n",
      "\n",
      "helper_MutationMarkovLinear1up2dw AT 14 50 0.00285057769991 [0.00072168, -0.00243107, 0.00484442, -0.03470394, 0.0008888, -0.00735057]\n",
      "\n",
      "helper_MutationMarkovLinear1up2dw AC 14 40 0.00518600544746 [6.56082901e-05, 0.00106363382, 0.00188151906, -0.0100591175, 0.000906520046, -0.00949047383]\n",
      "\n",
      "helper_MutationMarkovLinear1up2dw AC 14 45 0.00476521622417 [0.00015458, -0.0005665, 0.00177869, -0.00998003, 0.0007825, -0.00819314]\n",
      "\n",
      "helper_MutationMarkovLinear1up2dw AC 14 50 0.00487512190737 [0.00011013, 0.00062247, 0.00173011, -0.01068493, 0.00064882, -0.00651681]\n",
      "\n",
      "helper_MutationMarkovLinear1up2dw G 14 40 0.00448337624335 [-0.00077421, -0.00130074, 0.0050906, -0.03670743, 0.00132494, -0.01121577]\n",
      "\n",
      "helper_MutationMarkovLinear1up2dw G 14 45 0.00295226832855 [-0.00141397, 0.00849765, 0.00484117, -0.035321, 0.00118741, -0.01010319]\n",
      "\n",
      "helper_MutationMarkovLinear1up2dw G 14 50 0.00209201779424 [-0.0007645, 0.00240877, 0.00460981, -0.03406724, 0.00097733, -0.00822277]\n",
      "\n",
      "helper_MutationMarkovLinear1up2dw AG 14 40 0.00133852735883 [-0.00049593, 0.00370005, 0.00161234, -0.00856216, 0.00086695, -0.01057952]\n",
      "\n",
      "helper_MutationMarkovLinear1up2dw AG 14 45 0.000857297985516 [0.00010824, 0.00010348, 0.00167601, -0.01066135, 0.00089341, -0.01106292]\n",
      "\n",
      "helper_MutationMarkovLinear1up2dw AG 14 50 0.00131935558979 [2.50081752e-05, -0.00588590697, 0.00129182798, -0.00661122402, 0.000597432257, -0.00640399419]\n",
      "\n",
      "helper_MutationMarkovLinear1up1dw A 14 40 0.0150496614366 [0.00054404, -0.00035811, 0.00457002, -0.03530504]\n",
      "\n",
      "helper_MutationMarkovLinear1up1dw A 14 45 0.0117568489747 [0.00057921, -0.00088107, 0.00419529, -0.03216085]\n",
      "\n",
      "helper_MutationMarkovLinear1up1dw A 14 50 0.01015769736 [0.00059819, -0.00114151, 0.00388848, -0.02957155]\n",
      "\n",
      "helper_MutationMarkovLinear1up1dw AT 14 40 0.00393506073007 [0.00055167, -0.00045788, 0.00559533, -0.03591496]\n",
      "\n",
      "helper_MutationMarkovLinear1up1dw AT 14 45 0.00475860468857 [0.00054627, -0.00064545, 0.00512028, -0.03297231]\n",
      "\n",
      "helper_MutationMarkovLinear1up1dw AT 14 50 0.0146101990257 [0.00191138, -0.02329241, 0.00408778, -0.02788216]\n",
      "\n",
      "helper_MutationMarkovLinear1up1dw AC 14 40 0.0265048283293 [0.00020649, 0.00071274, 0.00332162, -0.02371496]\n",
      "\n",
      "helper_MutationMarkovLinear1up1dw AC 14 45 0.0211070814953 [0.00021516, 0.00072925, 0.00300881, -0.02092154]\n",
      "\n",
      "helper_MutationMarkovLinear1up1dw AC 14 50 0.0188099346459 [0.00023269, 0.00049299, 0.00277115, -0.01937763]\n",
      "\n",
      "helper_MutationMarkovLinear1up1dw G 14 40 0.0245297534505 [-0.00112495, 0.00731561, 0.00615366, -0.04230341]\n",
      "\n",
      "helper_MutationMarkovLinear1up1dw G 14 45 0.0193919202374 [-0.00097496, 0.00649682, 0.00553784, -0.03791693]\n",
      "\n",
      "helper_MutationMarkovLinear1up1dw G 14 50 0.0170689848354 [-0.000868, 0.00595794, 0.00504336, -0.03447451]\n",
      "\n",
      "helper_MutationMarkovLinear1up1dw AG 14 40 0.00811115738267 [0.00061301, -0.01048313, 0.00310023, -0.02662871]\n",
      "\n",
      "helper_MutationMarkovLinear1up1dw AG 14 45 0.00516788827726 [8.38217115e-05, 0.00131806772, 0.00275584279, -0.0221300239]\n",
      "\n",
      "helper_MutationMarkovLinear1up1dw AG 14 50 0.00411910602063 [0.00010303, 0.00106342, 0.00249562, -0.01940813]\n",
      "\n",
      "helper_MutationMarkovSquared1up1dw A 14 40 0.0187910137172 [-1.01372472e-05, 0.000372755114, 0.00231212415, 9.80716157e-05, 0.000341326377, -0.00025945418]\n",
      "\n",
      "helper_MutationMarkovSquared1up1dw A 14 45 0.0171916837984 [-1.22525827e-05, 0.000432653284, 0.00218075283, 8.47603496e-05, 0.000399971338, -0.000279528608]\n",
      "\n",
      "helper_MutationMarkovSquared1up1dw A 14 50 0.0117855476211 [-1.1510797e-05, 0.000537236365, 0.00249510392, 0.000100942209, -6.42793864e-05, -0.000754462397]\n",
      "\n",
      "helper_MutationMarkovSquared1up1dw AT 14 40 0.00387379946724 [3.51339772e-05, 0.000350510664, -0.00321367242, 0.000252836809, -0.000321492192, -0.00310557325]\n",
      "\n",
      "helper_MutationMarkovSquared1up1dw AT 14 45 0.00461384713716 [1.98112418e-05, 0.000382933667, -0.00322587145, 0.000231441108, -0.000350651621, -0.00323347533]\n",
      "\n",
      "helper_MutationMarkovSquared1up1dw AT 14 50 0.00443117881548 [-2.21745905e-05, 0.00079140622, -0.00151290583, 0.000224890751, -0.000346235294, -0.00355125746]\n",
      "\n",
      "helper_MutationMarkovSquared1up1dw AC 14 40 0.0577004120205 [2.51862511e-06, -0.000163575023, -0.00149673638, 5.72198489e-05, 0.000366520203, 0.00328073759]\n",
      "\n",
      "helper_MutationMarkovSquared1up1dw AC 14 45 0.0299824141231 [-1.1763173e-05, 0.000321713864, 0.000774256912, 6.8856118e-05, 0.000187472163, -0.000761519335]\n",
      "\n",
      "helper_MutationMarkovSquared1up1dw AC 14 50 0.0508887071937 [3.99297093e-06, -0.000201826548, -0.00183564282, 5.04411285e-05, 0.000205923065, 0.00183579131]\n",
      "\n",
      "helper_MutationMarkovSquared1up1dw G 14 40 0.0292744488443 [-0.00011154, 0.00044688, 0.00387001, 0.00026849, -0.00038425, -0.00387435]\n",
      "\n",
      "helper_MutationMarkovSquared1up1dw G 14 45 0.0218282141798 [-0.00010133, 0.00056636, 0.00381472, 0.00024461, -0.00021998, -0.00437268]\n",
      "\n",
      "helper_MutationMarkovSquared1up1dw G 14 50 0.021868512302 [-7.53673941e-05, 0.00031579477, 0.0028114853, 0.000216618264, -0.000297100406, -0.00281490875]\n",
      "\n",
      "helper_MutationMarkovSquared1up1dw AG 14 40 0.0150889735642 [-6.79352051e-06, -0.000349434754, 0.00318761129, 4.72538992e-05, 0.000358625889, 0.00318737943]\n",
      "\n",
      "helper_MutationMarkovSquared1up1dw AG 14 45 0.0143339863622 [-7.25036002e-06, -0.000302369925, 0.00276333714, 4.26511273e-05, 0.00031079176, 0.00276312678]\n",
      "\n",
      "helper_MutationMarkovSquared1up1dw AG 14 50 0.0149064161476 [-6.86545177e-06, -0.00028841391, 0.00263716987, 3.70704826e-05, 0.000296947486, 0.00263698585]\n",
      "\n",
      "helper_Whittaker3 AC 14 40 1.77922682414 [0.00334677, 0.024712, 0.61543949]\n",
      "\n",
      "helper_Whittaker3 AC 14 45 1.79282601222 [0.00310818, 0.02239914, 0.6239767]\n",
      "\n",
      "helper_Whittaker3 AC 14 50 1.80594754564 [0.00281823, 0.02024781, 0.62531562]\n",
      "\n",
      "helper_MutationMarkovLinear1up3dw A 14 40 0.00247208956071 [0.00119376, -0.00998791, 0.00212598, -0.01144397, 0.00111177, -0.0114832, 0.00070481, -0.01133715]\n",
      "\n",
      "helper_MutationMarkovLinear1up3dw A 14 45 0.00287710373975 [0.00117062, -0.0093831, 0.00200528, -0.01080594, 0.00106183, -0.01078417, 0.00062377, -0.01049863]\n",
      "\n",
      "helper_MutationMarkovLinear1up3dw A 14 50 0.00174748181278 [0.00089943, -0.00536645, 0.00293901, -0.02463037, 0.00087223, -0.0100073, 0.00018651, -0.00294798]\n",
      "\n",
      "helper_MutationMarkovLinear1up3dw AT 14 40 0.00279100518939 [0.00160119, -0.01167167, 0.00365282, -0.01889831, 0.00116885, -0.01124332, 0.0009289, -0.0086722]\n",
      "\n",
      "helper_MutationMarkovLinear1up3dw AT 14 45 0.00187221585516 [0.00043466, 0.00018496, 0.00489726, -0.03528193, 0.00116366, -0.01026802, 0.00029478, -0.00295289]\n",
      "\n",
      "helper_MutationMarkovLinear1up3dw AT 14 50 0.00241003706748 [0.00073998, -0.00209739, 0.00502713, -0.03670713, 0.00095073, -0.00892548, 0.00030126, -0.0028944]\n",
      "\n",
      "helper_MutationMarkovLinear1up3dw AC 14 40 0.00487960389164 [-0.00035087, 0.0042375, 0.0015673, -0.0050589, 0.00050746, -0.00492061, 0.00035399, -0.00473924]\n",
      "\n",
      "helper_MutationMarkovLinear1up3dw AC 14 45 0.00335593787438 [0.00012281, -0.00043892, 0.001794, -0.00906772, 0.00044409, -0.00523263, 0.00030162, -0.00360079]\n",
      "\n",
      "helper_MutationMarkovLinear1up3dw AC 14 50 0.00361690458517 [0.00015124, -0.00087142, 0.00170155, -0.00890306, 0.00037635, -0.00438145, 0.00025048, -0.00286367]\n",
      "\n",
      "helper_MutationMarkovLinear1up3dw G 14 40 0.00330870088067 [0.00028154, -0.01348674, 0.00510604, -0.03762277, 0.00148944, -0.01380573, 0.00046269, -0.00455358]\n",
      "\n",
      "helper_MutationMarkovLinear1up3dw G 14 45 0.00216749536602 [-0.00140247, 0.00832286, 0.00441276, -0.03096114, 0.00134665, -0.01217012, 0.00035223, -0.00368226]\n",
      "\n",
      "helper_MutationMarkovLinear1up3dw G 14 50 0.00881985588832 [-0.00155583, 0.01013935, 0.00261463, -0.0132453, 0.00126228, -0.01119884, 0.00087158, -0.00995434]\n",
      "\n",
      "helper_MutationMarkovLinear1up3dw AG 14 40 0.0010085352169 [-0.00014781, -0.00524563, 0.001445, -0.00601624, 0.00055382, -0.00578729, 0.00037738, -0.00553068]\n",
      "\n",
      "helper_MutationMarkovLinear1up3dw AG 14 45 0.000790151755426 [0.0003814, -0.00618032, 0.00144798, -0.00700773, 0.0005978, -0.00682511, 0.00042093, -0.00656875]\n",
      "\n",
      "helper_MutationMarkovLinear1up3dw AG 14 50 0.000853898414894 [-8.63116301e-05, -0.00418320443, 0.00118106774, -0.00490277681, 0.000441318831, -0.00460382797, 0.00029818576, -0.00436013084]\n",
      "\n"
     ]
    }
   ],
   "source": [
    "resize = set()\n",
    "for model_helper in fss:\n",
    "    model_key = model_helper.split('_')[1]\n",
    "    for rut in filtered_hists:\n",
    "#     for rut in ['AC']:\n",
    "        if rut not in fss[model_helper]:\n",
    "            continue\n",
    "        for f in fss[model_helper][rut][c0]:\n",
    "#             if f.status != 'finished':\n",
    "#                 continue\n",
    "            res = defuture(f)\n",
    "            x, y = extract_c1_c2(res)\n",
    "            fun, x_params = extract_fun_x_params(res)            \n",
    "            print(model_helper, rut, x, y, fun, x_params)\n",
    "            for i, (xp, xbounds) in enumerate(zip(x_params, models_and_bounds[model_key]['bounds'])):\n",
    "                xpib = abs(xp - xbounds[0])/(xbounds[1]-xbounds[0])\n",
    "                if xpib < 0.001:\n",
    "                    print(rut, model_key, 'floored', i, xpib, xp, xbounds)\n",
    "                    resize.add((model_key, rut))\n",
    "                if xpib > 0.999:\n",
    "                    print(rut, model_key, 'roofed', i, xpib, xp, xbounds)\n",
    "                    resize.add((model_key, rut))\n",
    "            print()"
   ]
  },
  {
   "cell_type": "code",
   "execution_count": 14,
   "metadata": {},
   "outputs": [],
   "source": [
    "def clean_name(model_name):\n",
    "    if \"helper_\" in model_name:\n",
    "        model_name = model_name[len(\"helper_\"):]\n",
    "    if \"MutationMarkov\" in model_name:\n",
    "        model_name = model_name[len(\"MutationMarkov\"):]\n",
    "    return model_name"
   ]
  },
  {
   "cell_type": "code",
   "execution_count": 15,
   "metadata": {},
   "outputs": [],
   "source": [
    "ncolors = 10\n",
    "sns.set_palette(sns.color_palette(\"husl\", ncolors),n_colors=ncolors)\n",
    "best_by_model = []\n",
    "for c1i in range(1):\n",
    "#     for rut in ['AC',]:\n",
    "    for rut in filtered_hists:\n",
    "        for model_helper in set(fss.keys()):\n",
    "            if 'Hip' in model_helper:\n",
    "                continue\n",
    "            if rut not in fss[model_helper]:\n",
    "                continue\n",
    "            df = get_df(fss[model_helper][rut][c0], extract_c1_c2, list(itertools.product(c1s, c2s)))\n",
    "            if df is None:\n",
    "                print('empty for {} {}'.format(rut, model_helper))\n",
    "                continue\n",
    "            x = df.index.tolist()\n",
    "            y = list(list(zip(*df.values))[c1i])\n",
    "            if any(np.isnan(i) for i in y):\n",
    "                print('nans in {} {}'.format(rut, model_helper))\n",
    "                continue\n",
    "            best_by_model.append({'repeat_unit_type': rut, 'model':clean_name(model_helper), 'score':min(y)})"
   ]
  },
  {
   "cell_type": "code",
   "execution_count": 16,
   "metadata": {},
   "outputs": [],
   "source": [
    "sdf = pd.DataFrame(best_by_model)\n",
    "# sdf.plot(x='model', y='score', kind='bar', logy=True)"
   ]
  },
  {
   "cell_type": "code",
   "execution_count": 43,
   "metadata": {
    "scrolled": false
   },
   "outputs": [
    {
     "name": "stderr",
     "output_type": "stream",
     "text": [
      "/home/ofirr/.venvs/cl/lib/python3.5/site-packages/ipykernel_launcher.py:17: FutureWarning: sort(columns=....) is deprecated, use sort_values(by=.....)\n",
      "\n",
      "/home/ofirr/.venvs/cl/lib/python3.5/site-packages/matplotlib/font_manager.py:1297: UserWarning: findfont: Font family ['sans-serif'] not found. Falling back to DejaVu Sans\n",
      "  (prop.get_family(), self.defaultFamily[fontext]))\n",
      "\n"
     ]
    },
    {
     "data": {
      "image/png": "[encoded data removed]",
      "text/plain": [
       "<matplotlib.figure.Figure at 0x7f55e83c0470>"
      ]
     },
     "metadata": {},
     "output_type": "display_data"
    },
    {
     "data": {
      "image/png": "[encoded data removed]",
      "text/plain": [
       "<matplotlib.figure.Figure at 0x7f55ea9d78d0>"
      ]
     },
     "metadata": {},
     "output_type": "display_data"
    },
    {
     "data": {
      "image/png": "[encoded data removed]",
      "text/plain": [
       "<matplotlib.figure.Figure at 0x7f55e8028208>"
      ]
     },
     "metadata": {},
     "output_type": "display_data"
    },
    {
     "data": {
      "image/png": "[encoded data removed]",
      "text/plain": [
       "<matplotlib.figure.Figure at 0x7f55e7e0c8d0>"
      ]
     },
     "metadata": {},
     "output_type": "display_data"
    },
    {
     "data": {
      "image/png": "[encoded data removed]",
      "text/plain": [
       "<matplotlib.figure.Figure at 0x7f55e7ecceb8>"
      ]
     },
     "metadata": {},
     "output_type": "display_data"
    },
    {
     "data": {
      "image/png": "[encoded data removed]",
      "text/plain": [
       "<matplotlib.figure.Figure at 0x7f55e7dce240>"
      ]
     },
     "metadata": {},
     "output_type": "display_data"
    }
   ],
   "source": [
    "import matplotlib.gridspec as gridspec\n",
    "gs = gridspec.GridSpec(3, 6)\n",
    "gs.update(wspace=0.5)\n",
    "ax1 = plt.subplot(gs[0, :2], )\n",
    "ax2 = plt.subplot(gs[0, 2:4])\n",
    "ax3 = plt.subplot(gs[0, 4:])\n",
    "ax4 = plt.subplot(gs[2, 1:3])\n",
    "ax5 = plt.subplot(gs[2, 3:5])\n",
    "for rut, ax in zip(filtered_hists,[ax1,ax2,ax3,ax4,ax5]):\n",
    "    g = sns.factorplot(\n",
    "        x='model', \n",
    "        y='score', \n",
    "#         col='repeat_unit_type', \n",
    "#         data=sdf, \n",
    "        data=sdf[sdf['repeat_unit_type']==rut],\n",
    "        kind='bar', \n",
    "        order=sdf[sdf['repeat_unit_type']==rut].sort('score')['model'],\n",
    "#         col_order=['AC', 'AG', 'AT', 'A', 'G'],\n",
    "        size=4, \n",
    "        aspect=1.5,\n",
    "    )\n",
    "    g.set_xticklabels(rotation=90)\n",
    "    g.fig.get_axes()[0].set_yscale('log')\n",
    "#     plt.savefig('/home/ofirr/s/Ofir/{}_model_comparison.pdf'.format(rut), bbox_inches='tight')\n",
    "plt.show()"
   ]
  },
  {
   "cell_type": "code",
   "execution_count": 21,
   "metadata": {},
   "outputs": [],
   "source": [
    "model_labels = ['Linear1up3dw',\n",
    "'Linear1up2dw',\n",
    "'Linear2up2dw',\n",
    "'Whittaker9',\n",
    "'Whittaker8',\n",
    "'Whittaker7',\n",
    "'Whittaker6',\n",
    "'Linear1up1dw',\n",
    "'Squared1up2dw',\n",
    "'Squared1up1dw',\n",
    "'Squared2up2dw',\n",
    "'Squared1up3dw',\n",
    "'Whittaker5',\n",
    "'Whittaker4',\n",
    "'Whittaker2',\n",
    "'Whittaker3',\n",
    "'Whittaker1',\n",
    "]"
   ]
  },
  {
   "cell_type": "code",
   "execution_count": 24,
   "metadata": {},
   "outputs": [
    {
     "data": {
      "text/plain": [
       "{'Linear1up1dw': (0.20260140137245986, 0.6888777365691905, 0.5073931192355193),\n",
       " 'Linear1up2dw': (0.9709475908389634,\n",
       "  0.46403989737619705,\n",
       "  0.23268163300341138),\n",
       " 'Linear1up3dw': (0.9677975592919913, 0.44127456009157356, 0.5358103155058701),\n",
       " 'Linear2up2dw': (0.8233753136307219, 0.5564097629441267, 0.19515040910202758),\n",
       " 'Squared1up1dw': (0.21283940026780146,\n",
       "  0.6736342952276683,\n",
       "  0.6790583455137678),\n",
       " 'Squared1up2dw': (0.20806612541243952,\n",
       "  0.6808998626985141,\n",
       "  0.6056504754121731),\n",
       " 'Squared1up3dw': (0.2276041189151808, 0.6492591618617503, 0.8667352328785314),\n",
       " 'Squared2up2dw': (0.21840821737392985,\n",
       "  0.6647898200401803,\n",
       "  0.7553445340026518),\n",
       " 'Whittaker1': (0.964715581208501, 0.4175934015417711, 0.6999430436310112),\n",
       " 'Whittaker2': (0.8753266398274079, 0.4280264074507189, 0.9577762021967094),\n",
       " 'Whittaker3': (0.9609894338512172, 0.3866875852472021, 0.8475770545475213),\n",
       " 'Whittaker4': (0.690592305012026, 0.5310029892694575, 0.9581797268573365),\n",
       " 'Whittaker5': (0.46464649399867336, 0.6001189477477143, 0.9585131479964976),\n",
       " 'Whittaker6': (0.19381360556293972, 0.7009873870290324, 0.2710533164704233),\n",
       " 'Whittaker7': (0.48656894593750394, 0.6663726666050075, 0.19297564161091252),\n",
       " 'Whittaker8': (0.6199256505009382, 0.6340974041174863, 0.19366913066077465),\n",
       " 'Whittaker9': (0.7188721694437208, 0.601448945129206, 0.19432336924941168)}"
      ]
     },
     "execution_count": 24,
     "metadata": {},
     "output_type": "execute_result"
    }
   ],
   "source": [
    "palette = dict(zip(model_labels, sns.color_palette(\"husl\", len(model_labels))))\n",
    "palette\n",
    "# palette ={\"A\":\"C0\",\"B\":\"C1\",\"C\":\"C2\", \"Total\":\"k\"}"
   ]
  },
  {
   "cell_type": "code",
   "execution_count": 30,
   "metadata": {
    "scrolled": false
   },
   "outputs": [
    {
     "name": "stderr",
     "output_type": "stream",
     "text": [
      "/home/ofirr/.venvs/cl/lib/python3.5/site-packages/ipykernel_launcher.py:10: FutureWarning: sort(columns=....) is deprecated, use sort_values(by=.....)\n",
      "  # Remove the CWD from sys.path while we load stuff.\n",
      "\n",
      "/home/ofirr/.venvs/cl/lib/python3.5/site-packages/matplotlib/font_manager.py:1297: UserWarning: findfont: Font family ['sans-serif'] not found. Falling back to DejaVu Sans\n",
      "  (prop.get_family(), self.defaultFamily[fontext]))\n",
      "\n"
     ]
    },
    {
     "name": "stdout",
     "output_type": "stream",
     "text": [
      "A\n"
     ]
    },
    {
     "data": {
      "image/png": "[encoded data removed]",
      "text/plain": [
       "<matplotlib.figure.Figure at 0x7f5f89dc37f0>"
      ]
     },
     "metadata": {},
     "output_type": "display_data"
    },
    {
     "name": "stdout",
     "output_type": "stream",
     "text": [
      "AC\n"
     ]
    },
    {
     "data": {
      "image/png": "[encoded data removed]",
      "text/plain": [
       "<matplotlib.figure.Figure at 0x7f5f89a70240>"
      ]
     },
     "metadata": {},
     "output_type": "display_data"
    },
    {
     "name": "stdout",
     "output_type": "stream",
     "text": [
      "AG\n"
     ]
    },
    {
     "data": {
      "image/png": "[encoded data removed]",
      "text/plain": [
       "<matplotlib.figure.Figure at 0x7f5f89904cc0>"
      ]
     },
     "metadata": {},
     "output_type": "display_data"
    },
    {
     "name": "stdout",
     "output_type": "stream",
     "text": [
      "G\n"
     ]
    },
    {
     "data": {
      "image/png": "[encoded data removed]",
      "text/plain": [
       "<matplotlib.figure.Figure at 0x7f5f898529b0>"
      ]
     },
     "metadata": {},
     "output_type": "display_data"
    },
    {
     "name": "stdout",
     "output_type": "stream",
     "text": [
      "AT\n"
     ]
    },
    {
     "data": {
      "image/png": "[encoded data removed]",
      "text/plain": [
       "<matplotlib.figure.Figure at 0x7f5f89dc3a90>"
      ]
     },
     "metadata": {},
     "output_type": "display_data"
    }
   ],
   "source": [
    "for rut in filtered_hists:\n",
    "    print(rut)\n",
    "    g = sns.factorplot(\n",
    "        x='model', \n",
    "        y='score', \n",
    "#         col='repeat_unit_type', \n",
    "#         data=sdf, \n",
    "        data=sdf[sdf['repeat_unit_type']==rut],\n",
    "        kind='bar', \n",
    "        order=sdf[sdf['repeat_unit_type']==rut].sort('score')['model'],\n",
    "#         col_order=['AC', 'AG', 'AT', 'A', 'G'],\n",
    "        size=4, \n",
    "        aspect=1.5,\n",
    "        palette=palette,\n",
    "    )\n",
    "    g.set_xticklabels(rotation=90)\n",
    "    g.fig.get_axes()[0].set_yscale('log')\n",
    "    plt.savefig('/home/ofirr/s/Ofir/{}_model_comparison.pdf'.format(rut), bbox_inches='tight')\n",
    "    plt.show()"
   ]
  },
  {
   "cell_type": "code",
   "execution_count": 79,
   "metadata": {
    "scrolled": false
   },
   "outputs": [
    {
     "name": "stderr",
     "output_type": "stream",
     "text": [
      "/home/ofirr/.venvs/cl/lib/python3.5/site-packages/ipykernel_launcher.py:10: FutureWarning: sort(columns=....) is deprecated, use sort_values(by=.....)\n",
      "  # Remove the CWD from sys.path while we load stuff.\n",
      "\n"
     ]
    },
    {
     "name": "stdout",
     "output_type": "stream",
     "text": [
      "AC\n"
     ]
    },
    {
     "data": {
      "image/png": "[encoded data removed]",
      "text/plain": [
       "<matplotlib.figure.Figure at 0x7fc84bf18f98>"
      ]
     },
     "metadata": {},
     "output_type": "display_data"
    },
    {
     "name": "stdout",
     "output_type": "stream",
     "text": [
      "AG\n"
     ]
    },
    {
     "data": {
      "image/png": "[encoded data removed]",
      "text/plain": [
       "<matplotlib.figure.Figure at 0x7fc84bf591d0>"
      ]
     },
     "metadata": {},
     "output_type": "display_data"
    },
    {
     "name": "stdout",
     "output_type": "stream",
     "text": [
      "AT\n"
     ]
    },
    {
     "data": {
      "image/png": "[encoded data removed]",
      "text/plain": [
       "<matplotlib.figure.Figure at 0x7fc84bf71ba8>"
      ]
     },
     "metadata": {},
     "output_type": "display_data"
    },
    {
     "name": "stdout",
     "output_type": "stream",
     "text": [
      "A\n"
     ]
    },
    {
     "data": {
      "image/png": "[encoded data removed]",
      "text/plain": [
       "<matplotlib.figure.Figure at 0x7fc852ffc6a0>"
      ]
     },
     "metadata": {},
     "output_type": "display_data"
    },
    {
     "name": "stdout",
     "output_type": "stream",
     "text": [
      "G\n"
     ]
    },
    {
     "data": {
      "image/png": "[encoded data removed]",
      "text/plain": [
       "<matplotlib.figure.Figure at 0x7fc85000d5c0>"
      ]
     },
     "metadata": {},
     "output_type": "display_data"
    }
   ],
   "source": [
    "for rut in ['AC', 'AG', 'AT', 'A', 'G']:\n",
    "    print(rut)\n",
    "    g = sns.factorplot(\n",
    "        x='model', \n",
    "        y='score', \n",
    "#         col='repeat_unit_type', \n",
    "#         data=sdf, \n",
    "        data=sdf[sdf['repeat_unit_type']==rut],\n",
    "        kind='bar', \n",
    "        order=sdf[sdf['repeat_unit_type']==rut].sort('score')['model'],\n",
    "#         col_order=['AC', 'AG', 'AT', 'A', 'G'],\n",
    "        size=4, \n",
    "        aspect=1.5,\n",
    "    )\n",
    "    g.set_xticklabels(rotation=90)\n",
    "    g.fig.get_axes()[0].set_yscale('log')\n",
    "    plt.savefig('/home/ofirr/s/Ofir/{}_model_comparison.pdf'.format(rut), bbox_inches='tight')\n",
    "    plt.show()"
   ]
  },
  {
   "cell_type": "code",
   "execution_count": null,
   "metadata": {},
   "outputs": [],
   "source": []
  }
 ],
 "metadata": {
  "kernelspec": {
   "display_name": "Python 3",
   "language": "python",
   "name": "python3"
  },
  "language_info": {
   "codemirror_mode": {
    "name": "ipython",
    "version": 3
   },
   "file_extension": ".py",
   "mimetype": "text/x-python",
   "name": "python",
   "nbconvert_exporter": "python",
   "pygments_lexer": "ipython3",
   "version": "3.5.2"
  },
  "latex_envs": {
   "bibliofile": "biblio.bib",
   "cite_by": "apalike",
   "current_citInitial": 1,
   "eqLabelWithNumbers": true,
   "eqNumInitial": 0
  }
 },
 "nbformat": 4,
 "nbformat_minor": 1
}
